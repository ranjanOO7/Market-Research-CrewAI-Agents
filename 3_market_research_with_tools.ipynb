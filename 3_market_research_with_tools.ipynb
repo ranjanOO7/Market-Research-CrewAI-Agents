{
 "cells": [
  {
   "cell_type": "code",
   "id": "initial_id",
   "metadata": {
    "collapsed": true,
    "ExecuteTime": {
     "end_time": "2025-09-14T10:28:14.938668Z",
     "start_time": "2025-09-14T10:28:14.829225Z"
    }
   },
   "source": [
    "import os\n",
    "from dotenv import load_dotenv\n",
    "\n",
    "load_dotenv()\n",
    "\n",
    "print(os.getenv(\"GROQ_API_KEY\") != None)\n",
    "print(os.getenv(\"SERPER_API_KEY\") != None)"
   ],
   "outputs": [
    {
     "name": "stdout",
     "output_type": "stream",
     "text": [
      "True\n",
      "True\n"
     ]
    }
   ],
   "execution_count": 1
  },
  {
   "metadata": {
    "ExecuteTime": {
     "end_time": "2025-09-14T10:29:42.613955Z",
     "start_time": "2025-09-14T10:28:15.153098Z"
    }
   },
   "cell_type": "code",
   "source": [
    "from crewai import LLM\n",
    "\n",
    "llm = LLM(\n",
    "    model=\"groq/llama-3.1-8b-instant\",\n",
    "    api_key=os.getenv(\"GROQ_API_KEY\")\n",
    ")\n",
    "\n",
    "testing = llm.call(\"2+2\")\n",
    "print(testing)"
   ],
   "id": "c0bf37d246849737",
   "outputs": [
    {
     "name": "stdout",
     "output_type": "stream",
     "text": [
      "2 + 2 = 4\n"
     ]
    }
   ],
   "execution_count": 2
  },
  {
   "metadata": {
    "ExecuteTime": {
     "end_time": "2025-09-14T12:10:37.611481Z",
     "start_time": "2025-09-14T12:10:11.374703Z"
    }
   },
   "cell_type": "code",
   "source": [
    "from crewai import Agent, Task, Crew\n",
    "from crewai_tools import SerperDevTool\n",
    "\n",
    "market_research_agent = Agent(\n",
    "    role=\"market researcher\",\n",
    "    backstory=\"You are a market researcher for a multi national company.You research and provide latest information on topics.\",\n",
    "    goal=\"Provide interesting facts about the topic: {topic}\",\n",
    "    tools=[SerperDevTool()],\n",
    "    verbose=True,\n",
    "    llm=llm\n",
    ")\n",
    "\n",
    "content_writer_agent = Agent(\n",
    "    role=\"content writer specialist\",\n",
    "    backstory=\"You are a content write specialist for a multi national company. You create relevant article on the information on the topic provided.\",\n",
    "    goal=\"Summarise the information and create an article for marketing.\",\n",
    "    verbose=True,\n",
    "    llm=llm\n",
    ")\n",
    "\n",
    "research_task = Task(\n",
    "    description=\"Provide 5-10 interesting and latest facts about {topic}\",\n",
    "    expected_output=\"List of interesting facts in bullet points\",\n",
    "    agent=market_research_agent\n",
    ")\n",
    "\n",
    "writer_task = Task(\n",
    "    description=\"Create an interesting and a professional article for linkedin on {topic}\",\n",
    "    expected_output=\"An optimised an interesting article for linkedin\",\n",
    "    agent=content_writer_agent,\n",
    "    context=[research_task]\n",
    ")\n",
    "\n",
    "marketing_crew = Crew(\n",
    "    agents=[market_research_agent,content_writer_agent],\n",
    "    tasks=[research_task,writer_task],\n",
    "    verbose=True\n",
    ")\n",
    "\n",
    "\n",
    "result = marketing_crew.kickoff(inputs={\"topic\":\"Agentic Ai\"})\n",
    "print(result)"
   ],
   "id": "31f78fe76e46d83b",
   "outputs": [
    {
     "data": {
      "text/plain": [
       "\u001B[36m╭─\u001B[0m\u001B[36m───────────────────────────────────────────\u001B[0m\u001B[36m Crew Execution Started \u001B[0m\u001B[36m────────────────────────────────────────────\u001B[0m\u001B[36m─╮\u001B[0m\n",
       "\u001B[36m│\u001B[0m                                                                                                                 \u001B[36m│\u001B[0m\n",
       "\u001B[36m│\u001B[0m  \u001B[1;36mCrew Execution Started\u001B[0m                                                                                         \u001B[36m│\u001B[0m\n",
       "\u001B[36m│\u001B[0m  \u001B[37mName: \u001B[0m\u001B[36mcrew\u001B[0m                                                                                                     \u001B[36m│\u001B[0m\n",
       "\u001B[36m│\u001B[0m  \u001B[37mID: \u001B[0m\u001B[36me736b435-0947-48cc-aaa0-6d30de2f4614\u001B[0m                                                                       \u001B[36m│\u001B[0m\n",
       "\u001B[36m│\u001B[0m  \u001B[37mTool Args: \u001B[0m                                                                                                    \u001B[36m│\u001B[0m\n",
       "\u001B[36m│\u001B[0m                                                                                                                 \u001B[36m│\u001B[0m\n",
       "\u001B[36m│\u001B[0m                                                                                                                 \u001B[36m│\u001B[0m\n",
       "\u001B[36m╰─────────────────────────────────────────────────────────────────────────────────────────────────────────────────╯\u001B[0m\n"
      ],
      "text/html": [
       "<pre style=\"white-space:pre;overflow-x:auto;line-height:normal;font-family:Menlo,'DejaVu Sans Mono',consolas,'Courier New',monospace\"><span style=\"color: #008080; text-decoration-color: #008080\">╭──────────────────────────────────────────── Crew Execution Started ─────────────────────────────────────────────╮</span>\n",
       "<span style=\"color: #008080; text-decoration-color: #008080\">│</span>                                                                                                                 <span style=\"color: #008080; text-decoration-color: #008080\">│</span>\n",
       "<span style=\"color: #008080; text-decoration-color: #008080\">│</span>  <span style=\"color: #008080; text-decoration-color: #008080; font-weight: bold\">Crew Execution Started</span>                                                                                         <span style=\"color: #008080; text-decoration-color: #008080\">│</span>\n",
       "<span style=\"color: #008080; text-decoration-color: #008080\">│</span>  <span style=\"color: #c0c0c0; text-decoration-color: #c0c0c0\">Name: </span><span style=\"color: #008080; text-decoration-color: #008080\">crew</span>                                                                                                     <span style=\"color: #008080; text-decoration-color: #008080\">│</span>\n",
       "<span style=\"color: #008080; text-decoration-color: #008080\">│</span>  <span style=\"color: #c0c0c0; text-decoration-color: #c0c0c0\">ID: </span><span style=\"color: #008080; text-decoration-color: #008080\">e736b435-0947-48cc-aaa0-6d30de2f4614</span>                                                                       <span style=\"color: #008080; text-decoration-color: #008080\">│</span>\n",
       "<span style=\"color: #008080; text-decoration-color: #008080\">│</span>  <span style=\"color: #c0c0c0; text-decoration-color: #c0c0c0\">Tool Args: </span>                                                                                                    <span style=\"color: #008080; text-decoration-color: #008080\">│</span>\n",
       "<span style=\"color: #008080; text-decoration-color: #008080\">│</span>                                                                                                                 <span style=\"color: #008080; text-decoration-color: #008080\">│</span>\n",
       "<span style=\"color: #008080; text-decoration-color: #008080\">│</span>                                                                                                                 <span style=\"color: #008080; text-decoration-color: #008080\">│</span>\n",
       "<span style=\"color: #008080; text-decoration-color: #008080\">╰─────────────────────────────────────────────────────────────────────────────────────────────────────────────────╯</span>\n",
       "</pre>\n"
      ]
     },
     "metadata": {},
     "output_type": "display_data"
    },
    {
     "data": {
      "text/plain": [
       "\n"
      ],
      "text/html": [
       "<pre style=\"white-space:pre;overflow-x:auto;line-height:normal;font-family:Menlo,'DejaVu Sans Mono',consolas,'Courier New',monospace\">\n",
       "</pre>\n"
      ]
     },
     "metadata": {},
     "output_type": "display_data"
    },
    {
     "data": {
      "text/plain": [],
      "text/html": [
       "<pre style=\"white-space:pre;overflow-x:auto;line-height:normal;font-family:Menlo,'DejaVu Sans Mono',consolas,'Courier New',monospace\"></pre>\n"
      ]
     },
     "metadata": {},
     "output_type": "display_data"
    },
    {
     "data": {
      "text/plain": [
       "\u001B[35m╭─\u001B[0m\u001B[35m──────────────────────────────────────────────\u001B[0m\u001B[35m 🤖 Agent Started \u001B[0m\u001B[35m───────────────────────────────────────────────\u001B[0m\u001B[35m─╮\u001B[0m\n",
       "\u001B[35m│\u001B[0m                                                                                                                 \u001B[35m│\u001B[0m\n",
       "\u001B[35m│\u001B[0m  \u001B[37mAgent: \u001B[0m\u001B[1;92mmarket researcher\u001B[0m                                                                                       \u001B[35m│\u001B[0m\n",
       "\u001B[35m│\u001B[0m                                                                                                                 \u001B[35m│\u001B[0m\n",
       "\u001B[35m│\u001B[0m  \u001B[37mTask: \u001B[0m\u001B[92mProvide 5-10 interesting and latest facts about Agentic Ai\u001B[0m                                               \u001B[35m│\u001B[0m\n",
       "\u001B[35m│\u001B[0m                                                                                                                 \u001B[35m│\u001B[0m\n",
       "\u001B[35m╰─────────────────────────────────────────────────────────────────────────────────────────────────────────────────╯\u001B[0m\n"
      ],
      "text/html": [
       "<pre style=\"white-space:pre;overflow-x:auto;line-height:normal;font-family:Menlo,'DejaVu Sans Mono',consolas,'Courier New',monospace\"><span style=\"color: #800080; text-decoration-color: #800080\">╭─────────────────────────────────────────────── 🤖 Agent Started ────────────────────────────────────────────────╮</span>\n",
       "<span style=\"color: #800080; text-decoration-color: #800080\">│</span>                                                                                                                 <span style=\"color: #800080; text-decoration-color: #800080\">│</span>\n",
       "<span style=\"color: #800080; text-decoration-color: #800080\">│</span>  <span style=\"color: #c0c0c0; text-decoration-color: #c0c0c0\">Agent: </span><span style=\"color: #00ff00; text-decoration-color: #00ff00; font-weight: bold\">market researcher</span>                                                                                       <span style=\"color: #800080; text-decoration-color: #800080\">│</span>\n",
       "<span style=\"color: #800080; text-decoration-color: #800080\">│</span>                                                                                                                 <span style=\"color: #800080; text-decoration-color: #800080\">│</span>\n",
       "<span style=\"color: #800080; text-decoration-color: #800080\">│</span>  <span style=\"color: #c0c0c0; text-decoration-color: #c0c0c0\">Task: </span><span style=\"color: #00ff00; text-decoration-color: #00ff00\">Provide 5-10 interesting and latest facts about Agentic Ai</span>                                               <span style=\"color: #800080; text-decoration-color: #800080\">│</span>\n",
       "<span style=\"color: #800080; text-decoration-color: #800080\">│</span>                                                                                                                 <span style=\"color: #800080; text-decoration-color: #800080\">│</span>\n",
       "<span style=\"color: #800080; text-decoration-color: #800080\">╰─────────────────────────────────────────────────────────────────────────────────────────────────────────────────╯</span>\n",
       "</pre>\n"
      ]
     },
     "metadata": {},
     "output_type": "display_data"
    },
    {
     "data": {
      "text/plain": [
       "\n"
      ],
      "text/html": [
       "<pre style=\"white-space:pre;overflow-x:auto;line-height:normal;font-family:Menlo,'DejaVu Sans Mono',consolas,'Courier New',monospace\">\n",
       "</pre>\n"
      ]
     },
     "metadata": {},
     "output_type": "display_data"
    },
    {
     "data": {
      "text/plain": [
       "E:\\PY_Workspace\\CrewAi-Introduction\\.venv\\Lib\\site-packages\\rich\\live.py:231: UserWarning: install \"ipywidgets\" for\n",
       "Jupyter support\n",
       "  warnings.warn('install \"ipywidgets\" for Jupyter support')\n"
      ],
      "text/html": [
       "<pre style=\"white-space:pre;overflow-x:auto;line-height:normal;font-family:Menlo,'DejaVu Sans Mono',consolas,'Courier New',monospace\">E:\\PY_Workspace\\CrewAi-Introduction\\.venv\\Lib\\site-packages\\rich\\live.py:231: UserWarning: install \"ipywidgets\" for\n",
       "Jupyter support\n",
       "  warnings.warn('install \"ipywidgets\" for Jupyter support')\n",
       "</pre>\n"
      ]
     },
     "metadata": {},
     "output_type": "display_data"
    },
    {
     "data": {
      "text/plain": [],
      "text/html": [
       "<pre style=\"white-space:pre;overflow-x:auto;line-height:normal;font-family:Menlo,'DejaVu Sans Mono',consolas,'Courier New',monospace\"></pre>\n"
      ]
     },
     "metadata": {},
     "output_type": "display_data"
    },
    {
     "data": {
      "text/plain": [
       "\u001B[31m╭─\u001B[0m\u001B[31m─────────────────────────────────────────────────\u001B[0m\u001B[31m Tool Error \u001B[0m\u001B[31m──────────────────────────────────────────────────\u001B[0m\u001B[31m─╮\u001B[0m\n",
       "\u001B[31m│\u001B[0m                                                                                                                 \u001B[31m│\u001B[0m\n",
       "\u001B[31m│\u001B[0m  \u001B[1;31mTool Usage Failed\u001B[0m                                                                                              \u001B[31m│\u001B[0m\n",
       "\u001B[31m│\u001B[0m  \u001B[37mName: \u001B[0m\u001B[31mSearch the internet with Serper\u001B[0m                                                                          \u001B[31m│\u001B[0m\n",
       "\u001B[31m│\u001B[0m  \u001B[37mError: \u001B[0m\u001B[31mArguments validation failed: 1 validation error for SerperDevToolSchema\u001B[0m                                 \u001B[31m│\u001B[0m\n",
       "\u001B[31m│\u001B[0m  \u001B[31msearch_query\u001B[0m                                                                                                   \u001B[31m│\u001B[0m\n",
       "\u001B[31m│\u001B[0m  \u001B[31m  Input should be a valid string [type=string_type, input_value={'description': 'Agentic ...t facts', 'type':\u001B[0m  \u001B[31m│\u001B[0m\n",
       "\u001B[31m│\u001B[0m  \u001B[31m'str'}, input_type=dict]\u001B[0m                                                                                       \u001B[31m│\u001B[0m\n",
       "\u001B[31m│\u001B[0m  \u001B[31m    For further information visit https://errors.pydantic.dev/2.11/v/string_type\u001B[0m                               \u001B[31m│\u001B[0m\n",
       "\u001B[31m│\u001B[0m  \u001B[37mTool Args: \u001B[0m                                                                                                    \u001B[31m│\u001B[0m\n",
       "\u001B[31m│\u001B[0m                                                                                                                 \u001B[31m│\u001B[0m\n",
       "\u001B[31m│\u001B[0m                                                                                                                 \u001B[31m│\u001B[0m\n",
       "\u001B[31m╰─────────────────────────────────────────────────────────────────────────────────────────────────────────────────╯\u001B[0m\n"
      ],
      "text/html": [
       "<pre style=\"white-space:pre;overflow-x:auto;line-height:normal;font-family:Menlo,'DejaVu Sans Mono',consolas,'Courier New',monospace\"><span style=\"color: #800000; text-decoration-color: #800000\">╭────────────────────────────────────────────────── Tool Error ───────────────────────────────────────────────────╮</span>\n",
       "<span style=\"color: #800000; text-decoration-color: #800000\">│</span>                                                                                                                 <span style=\"color: #800000; text-decoration-color: #800000\">│</span>\n",
       "<span style=\"color: #800000; text-decoration-color: #800000\">│</span>  <span style=\"color: #800000; text-decoration-color: #800000; font-weight: bold\">Tool Usage Failed</span>                                                                                              <span style=\"color: #800000; text-decoration-color: #800000\">│</span>\n",
       "<span style=\"color: #800000; text-decoration-color: #800000\">│</span>  <span style=\"color: #c0c0c0; text-decoration-color: #c0c0c0\">Name: </span><span style=\"color: #800000; text-decoration-color: #800000\">Search the internet with Serper</span>                                                                          <span style=\"color: #800000; text-decoration-color: #800000\">│</span>\n",
       "<span style=\"color: #800000; text-decoration-color: #800000\">│</span>  <span style=\"color: #c0c0c0; text-decoration-color: #c0c0c0\">Error: </span><span style=\"color: #800000; text-decoration-color: #800000\">Arguments validation failed: 1 validation error for SerperDevToolSchema</span>                                 <span style=\"color: #800000; text-decoration-color: #800000\">│</span>\n",
       "<span style=\"color: #800000; text-decoration-color: #800000\">│</span>  <span style=\"color: #800000; text-decoration-color: #800000\">search_query</span>                                                                                                   <span style=\"color: #800000; text-decoration-color: #800000\">│</span>\n",
       "<span style=\"color: #800000; text-decoration-color: #800000\">│</span>  <span style=\"color: #800000; text-decoration-color: #800000\">  Input should be a valid string [type=string_type, input_value={'description': 'Agentic ...t facts', 'type':</span>  <span style=\"color: #800000; text-decoration-color: #800000\">│</span>\n",
       "<span style=\"color: #800000; text-decoration-color: #800000\">│</span>  <span style=\"color: #800000; text-decoration-color: #800000\">'str'}, input_type=dict]</span>                                                                                       <span style=\"color: #800000; text-decoration-color: #800000\">│</span>\n",
       "<span style=\"color: #800000; text-decoration-color: #800000\">│</span>  <span style=\"color: #800000; text-decoration-color: #800000\">    For further information visit https://errors.pydantic.dev/2.11/v/string_type</span>                               <span style=\"color: #800000; text-decoration-color: #800000\">│</span>\n",
       "<span style=\"color: #800000; text-decoration-color: #800000\">│</span>  <span style=\"color: #c0c0c0; text-decoration-color: #c0c0c0\">Tool Args: </span>                                                                                                    <span style=\"color: #800000; text-decoration-color: #800000\">│</span>\n",
       "<span style=\"color: #800000; text-decoration-color: #800000\">│</span>                                                                                                                 <span style=\"color: #800000; text-decoration-color: #800000\">│</span>\n",
       "<span style=\"color: #800000; text-decoration-color: #800000\">│</span>                                                                                                                 <span style=\"color: #800000; text-decoration-color: #800000\">│</span>\n",
       "<span style=\"color: #800000; text-decoration-color: #800000\">╰─────────────────────────────────────────────────────────────────────────────────────────────────────────────────╯</span>\n",
       "</pre>\n"
      ]
     },
     "metadata": {},
     "output_type": "display_data"
    },
    {
     "data": {
      "text/plain": [
       "\n"
      ],
      "text/html": [
       "<pre style=\"white-space:pre;overflow-x:auto;line-height:normal;font-family:Menlo,'DejaVu Sans Mono',consolas,'Courier New',monospace\">\n",
       "</pre>\n"
      ]
     },
     "metadata": {},
     "output_type": "display_data"
    },
    {
     "data": {
      "text/plain": [],
      "text/html": [
       "<pre style=\"white-space:pre;overflow-x:auto;line-height:normal;font-family:Menlo,'DejaVu Sans Mono',consolas,'Courier New',monospace\"></pre>\n"
      ]
     },
     "metadata": {},
     "output_type": "display_data"
    },
    {
     "data": {
      "text/plain": [
       "\u001B[31m╭─\u001B[0m\u001B[31m─────────────────────────────────────────────────\u001B[0m\u001B[31m Tool Error \u001B[0m\u001B[31m──────────────────────────────────────────────────\u001B[0m\u001B[31m─╮\u001B[0m\n",
       "\u001B[31m│\u001B[0m                                                                                                                 \u001B[31m│\u001B[0m\n",
       "\u001B[31m│\u001B[0m  \u001B[1;31mTool Usage Failed\u001B[0m                                                                                              \u001B[31m│\u001B[0m\n",
       "\u001B[31m│\u001B[0m  \u001B[37mName: \u001B[0m\u001B[31mSearch the internet with Serper\u001B[0m                                                                          \u001B[31m│\u001B[0m\n",
       "\u001B[31m│\u001B[0m  \u001B[37mError: \u001B[0m\u001B[31mArguments validation failed: 1 validation error for SerperDevToolSchema\u001B[0m                                 \u001B[31m│\u001B[0m\n",
       "\u001B[31m│\u001B[0m  \u001B[31msearch_query\u001B[0m                                                                                                   \u001B[31m│\u001B[0m\n",
       "\u001B[31m│\u001B[0m  \u001B[31m  Input should be a valid string [type=string_type, input_value={'description': 'Agentic ...t facts', 'type':\u001B[0m  \u001B[31m│\u001B[0m\n",
       "\u001B[31m│\u001B[0m  \u001B[31m'str'}, input_type=dict]\u001B[0m                                                                                       \u001B[31m│\u001B[0m\n",
       "\u001B[31m│\u001B[0m  \u001B[31m    For further information visit https://errors.pydantic.dev/2.11/v/string_type\u001B[0m                               \u001B[31m│\u001B[0m\n",
       "\u001B[31m│\u001B[0m  \u001B[37mTool Args: \u001B[0m                                                                                                    \u001B[31m│\u001B[0m\n",
       "\u001B[31m│\u001B[0m                                                                                                                 \u001B[31m│\u001B[0m\n",
       "\u001B[31m│\u001B[0m                                                                                                                 \u001B[31m│\u001B[0m\n",
       "\u001B[31m╰─────────────────────────────────────────────────────────────────────────────────────────────────────────────────╯\u001B[0m\n"
      ],
      "text/html": [
       "<pre style=\"white-space:pre;overflow-x:auto;line-height:normal;font-family:Menlo,'DejaVu Sans Mono',consolas,'Courier New',monospace\"><span style=\"color: #800000; text-decoration-color: #800000\">╭────────────────────────────────────────────────── Tool Error ───────────────────────────────────────────────────╮</span>\n",
       "<span style=\"color: #800000; text-decoration-color: #800000\">│</span>                                                                                                                 <span style=\"color: #800000; text-decoration-color: #800000\">│</span>\n",
       "<span style=\"color: #800000; text-decoration-color: #800000\">│</span>  <span style=\"color: #800000; text-decoration-color: #800000; font-weight: bold\">Tool Usage Failed</span>                                                                                              <span style=\"color: #800000; text-decoration-color: #800000\">│</span>\n",
       "<span style=\"color: #800000; text-decoration-color: #800000\">│</span>  <span style=\"color: #c0c0c0; text-decoration-color: #c0c0c0\">Name: </span><span style=\"color: #800000; text-decoration-color: #800000\">Search the internet with Serper</span>                                                                          <span style=\"color: #800000; text-decoration-color: #800000\">│</span>\n",
       "<span style=\"color: #800000; text-decoration-color: #800000\">│</span>  <span style=\"color: #c0c0c0; text-decoration-color: #c0c0c0\">Error: </span><span style=\"color: #800000; text-decoration-color: #800000\">Arguments validation failed: 1 validation error for SerperDevToolSchema</span>                                 <span style=\"color: #800000; text-decoration-color: #800000\">│</span>\n",
       "<span style=\"color: #800000; text-decoration-color: #800000\">│</span>  <span style=\"color: #800000; text-decoration-color: #800000\">search_query</span>                                                                                                   <span style=\"color: #800000; text-decoration-color: #800000\">│</span>\n",
       "<span style=\"color: #800000; text-decoration-color: #800000\">│</span>  <span style=\"color: #800000; text-decoration-color: #800000\">  Input should be a valid string [type=string_type, input_value={'description': 'Agentic ...t facts', 'type':</span>  <span style=\"color: #800000; text-decoration-color: #800000\">│</span>\n",
       "<span style=\"color: #800000; text-decoration-color: #800000\">│</span>  <span style=\"color: #800000; text-decoration-color: #800000\">'str'}, input_type=dict]</span>                                                                                       <span style=\"color: #800000; text-decoration-color: #800000\">│</span>\n",
       "<span style=\"color: #800000; text-decoration-color: #800000\">│</span>  <span style=\"color: #800000; text-decoration-color: #800000\">    For further information visit https://errors.pydantic.dev/2.11/v/string_type</span>                               <span style=\"color: #800000; text-decoration-color: #800000\">│</span>\n",
       "<span style=\"color: #800000; text-decoration-color: #800000\">│</span>  <span style=\"color: #c0c0c0; text-decoration-color: #c0c0c0\">Tool Args: </span>                                                                                                    <span style=\"color: #800000; text-decoration-color: #800000\">│</span>\n",
       "<span style=\"color: #800000; text-decoration-color: #800000\">│</span>                                                                                                                 <span style=\"color: #800000; text-decoration-color: #800000\">│</span>\n",
       "<span style=\"color: #800000; text-decoration-color: #800000\">│</span>                                                                                                                 <span style=\"color: #800000; text-decoration-color: #800000\">│</span>\n",
       "<span style=\"color: #800000; text-decoration-color: #800000\">╰─────────────────────────────────────────────────────────────────────────────────────────────────────────────────╯</span>\n",
       "</pre>\n"
      ]
     },
     "metadata": {},
     "output_type": "display_data"
    },
    {
     "data": {
      "text/plain": [
       "\n"
      ],
      "text/html": [
       "<pre style=\"white-space:pre;overflow-x:auto;line-height:normal;font-family:Menlo,'DejaVu Sans Mono',consolas,'Courier New',monospace\">\n",
       "</pre>\n"
      ]
     },
     "metadata": {},
     "output_type": "display_data"
    },
    {
     "data": {
      "text/plain": [],
      "text/html": [
       "<pre style=\"white-space:pre;overflow-x:auto;line-height:normal;font-family:Menlo,'DejaVu Sans Mono',consolas,'Courier New',monospace\"></pre>\n"
      ]
     },
     "metadata": {},
     "output_type": "display_data"
    },
    {
     "data": {
      "text/plain": [
       "\u001B[31m╭─\u001B[0m\u001B[31m─────────────────────────────────────────────────\u001B[0m\u001B[31m Tool Error \u001B[0m\u001B[31m──────────────────────────────────────────────────\u001B[0m\u001B[31m─╮\u001B[0m\n",
       "\u001B[31m│\u001B[0m                                                                                                                 \u001B[31m│\u001B[0m\n",
       "\u001B[31m│\u001B[0m  \u001B[1;31mTool Usage Failed\u001B[0m                                                                                              \u001B[31m│\u001B[0m\n",
       "\u001B[31m│\u001B[0m  \u001B[37mName: \u001B[0m\u001B[31mSearch the internet with Serper\u001B[0m                                                                          \u001B[31m│\u001B[0m\n",
       "\u001B[31m│\u001B[0m  \u001B[37mError: \u001B[0m\u001B[31mArguments validation failed: 1 validation error for SerperDevToolSchema\u001B[0m                                 \u001B[31m│\u001B[0m\n",
       "\u001B[31m│\u001B[0m  \u001B[31msearch_query\u001B[0m                                                                                                   \u001B[31m│\u001B[0m\n",
       "\u001B[31m│\u001B[0m  \u001B[31m  Input should be a valid string [type=string_type, input_value={'description': 'Agentic ...t facts', 'type':\u001B[0m  \u001B[31m│\u001B[0m\n",
       "\u001B[31m│\u001B[0m  \u001B[31m'str'}, input_type=dict]\u001B[0m                                                                                       \u001B[31m│\u001B[0m\n",
       "\u001B[31m│\u001B[0m  \u001B[31m    For further information visit https://errors.pydantic.dev/2.11/v/string_type\u001B[0m                               \u001B[31m│\u001B[0m\n",
       "\u001B[31m│\u001B[0m  \u001B[37mTool Args: \u001B[0m                                                                                                    \u001B[31m│\u001B[0m\n",
       "\u001B[31m│\u001B[0m                                                                                                                 \u001B[31m│\u001B[0m\n",
       "\u001B[31m│\u001B[0m                                                                                                                 \u001B[31m│\u001B[0m\n",
       "\u001B[31m╰─────────────────────────────────────────────────────────────────────────────────────────────────────────────────╯\u001B[0m\n"
      ],
      "text/html": [
       "<pre style=\"white-space:pre;overflow-x:auto;line-height:normal;font-family:Menlo,'DejaVu Sans Mono',consolas,'Courier New',monospace\"><span style=\"color: #800000; text-decoration-color: #800000\">╭────────────────────────────────────────────────── Tool Error ───────────────────────────────────────────────────╮</span>\n",
       "<span style=\"color: #800000; text-decoration-color: #800000\">│</span>                                                                                                                 <span style=\"color: #800000; text-decoration-color: #800000\">│</span>\n",
       "<span style=\"color: #800000; text-decoration-color: #800000\">│</span>  <span style=\"color: #800000; text-decoration-color: #800000; font-weight: bold\">Tool Usage Failed</span>                                                                                              <span style=\"color: #800000; text-decoration-color: #800000\">│</span>\n",
       "<span style=\"color: #800000; text-decoration-color: #800000\">│</span>  <span style=\"color: #c0c0c0; text-decoration-color: #c0c0c0\">Name: </span><span style=\"color: #800000; text-decoration-color: #800000\">Search the internet with Serper</span>                                                                          <span style=\"color: #800000; text-decoration-color: #800000\">│</span>\n",
       "<span style=\"color: #800000; text-decoration-color: #800000\">│</span>  <span style=\"color: #c0c0c0; text-decoration-color: #c0c0c0\">Error: </span><span style=\"color: #800000; text-decoration-color: #800000\">Arguments validation failed: 1 validation error for SerperDevToolSchema</span>                                 <span style=\"color: #800000; text-decoration-color: #800000\">│</span>\n",
       "<span style=\"color: #800000; text-decoration-color: #800000\">│</span>  <span style=\"color: #800000; text-decoration-color: #800000\">search_query</span>                                                                                                   <span style=\"color: #800000; text-decoration-color: #800000\">│</span>\n",
       "<span style=\"color: #800000; text-decoration-color: #800000\">│</span>  <span style=\"color: #800000; text-decoration-color: #800000\">  Input should be a valid string [type=string_type, input_value={'description': 'Agentic ...t facts', 'type':</span>  <span style=\"color: #800000; text-decoration-color: #800000\">│</span>\n",
       "<span style=\"color: #800000; text-decoration-color: #800000\">│</span>  <span style=\"color: #800000; text-decoration-color: #800000\">'str'}, input_type=dict]</span>                                                                                       <span style=\"color: #800000; text-decoration-color: #800000\">│</span>\n",
       "<span style=\"color: #800000; text-decoration-color: #800000\">│</span>  <span style=\"color: #800000; text-decoration-color: #800000\">    For further information visit https://errors.pydantic.dev/2.11/v/string_type</span>                               <span style=\"color: #800000; text-decoration-color: #800000\">│</span>\n",
       "<span style=\"color: #800000; text-decoration-color: #800000\">│</span>  <span style=\"color: #c0c0c0; text-decoration-color: #c0c0c0\">Tool Args: </span>                                                                                                    <span style=\"color: #800000; text-decoration-color: #800000\">│</span>\n",
       "<span style=\"color: #800000; text-decoration-color: #800000\">│</span>                                                                                                                 <span style=\"color: #800000; text-decoration-color: #800000\">│</span>\n",
       "<span style=\"color: #800000; text-decoration-color: #800000\">│</span>                                                                                                                 <span style=\"color: #800000; text-decoration-color: #800000\">│</span>\n",
       "<span style=\"color: #800000; text-decoration-color: #800000\">╰─────────────────────────────────────────────────────────────────────────────────────────────────────────────────╯</span>\n",
       "</pre>\n"
      ]
     },
     "metadata": {},
     "output_type": "display_data"
    },
    {
     "data": {
      "text/plain": [
       "\n"
      ],
      "text/html": [
       "<pre style=\"white-space:pre;overflow-x:auto;line-height:normal;font-family:Menlo,'DejaVu Sans Mono',consolas,'Courier New',monospace\">\n",
       "</pre>\n"
      ]
     },
     "metadata": {},
     "output_type": "display_data"
    },
    {
     "name": "stdout",
     "output_type": "stream",
     "text": [
      "\u001B[91m \n",
      "\n",
      "I encountered an error while trying to use the tool. This was the error: Arguments validation failed: 1 validation error for SerperDevToolSchema\n",
      "search_query\n",
      "  Input should be a valid string [type=string_type, input_value={'description': 'Agentic ...t facts', 'type': 'str'}, input_type=dict]\n",
      "    For further information visit https://errors.pydantic.dev/2.11/v/string_type.\n",
      " Tool Search the internet with Serper accepts these inputs: Tool Name: Search the internet with Serper\n",
      "Tool Arguments: {'search_query': {'description': 'Mandatory search query you want to use to search the internet', 'type': 'str'}}\n",
      "Tool Description: A tool that can be used to search the internet with a search_query. Supports different search types: 'search' (default), 'news'\n",
      "\u001B[00m\n"
     ]
    },
    {
     "data": {
      "text/plain": [
       "\u001B[35m╭─\u001B[0m\u001B[35m───────────────────────────────────────────\u001B[0m\u001B[35m 🔧 Agent Tool Execution \u001B[0m\u001B[35m───────────────────────────────────────────\u001B[0m\u001B[35m─╮\u001B[0m\n",
       "\u001B[35m│\u001B[0m                                                                                                                 \u001B[35m│\u001B[0m\n",
       "\u001B[35m│\u001B[0m  \u001B[37mAgent: \u001B[0m\u001B[1;92mmarket researcher\u001B[0m                                                                                       \u001B[35m│\u001B[0m\n",
       "\u001B[35m│\u001B[0m                                                                                                                 \u001B[35m│\u001B[0m\n",
       "\u001B[35m│\u001B[0m  \u001B[37mThought: \u001B[0m\u001B[92mAction: Search the internet with Serper\u001B[0m                                                               \u001B[35m│\u001B[0m\n",
       "\u001B[35m│\u001B[0m                                                                                                                 \u001B[35m│\u001B[0m\n",
       "\u001B[35m│\u001B[0m  \u001B[37mUsing Tool: \u001B[0m\u001B[1;92mSearch the internet with Serper\u001B[0m                                                                    \u001B[35m│\u001B[0m\n",
       "\u001B[35m│\u001B[0m                                                                                                                 \u001B[35m│\u001B[0m\n",
       "\u001B[35m╰─────────────────────────────────────────────────────────────────────────────────────────────────────────────────╯\u001B[0m\n"
      ],
      "text/html": [
       "<pre style=\"white-space:pre;overflow-x:auto;line-height:normal;font-family:Menlo,'DejaVu Sans Mono',consolas,'Courier New',monospace\"><span style=\"color: #800080; text-decoration-color: #800080\">╭──────────────────────────────────────────── 🔧 Agent Tool Execution ────────────────────────────────────────────╮</span>\n",
       "<span style=\"color: #800080; text-decoration-color: #800080\">│</span>                                                                                                                 <span style=\"color: #800080; text-decoration-color: #800080\">│</span>\n",
       "<span style=\"color: #800080; text-decoration-color: #800080\">│</span>  <span style=\"color: #c0c0c0; text-decoration-color: #c0c0c0\">Agent: </span><span style=\"color: #00ff00; text-decoration-color: #00ff00; font-weight: bold\">market researcher</span>                                                                                       <span style=\"color: #800080; text-decoration-color: #800080\">│</span>\n",
       "<span style=\"color: #800080; text-decoration-color: #800080\">│</span>                                                                                                                 <span style=\"color: #800080; text-decoration-color: #800080\">│</span>\n",
       "<span style=\"color: #800080; text-decoration-color: #800080\">│</span>  <span style=\"color: #c0c0c0; text-decoration-color: #c0c0c0\">Thought: </span><span style=\"color: #00ff00; text-decoration-color: #00ff00\">Action: Search the internet with Serper</span>                                                               <span style=\"color: #800080; text-decoration-color: #800080\">│</span>\n",
       "<span style=\"color: #800080; text-decoration-color: #800080\">│</span>                                                                                                                 <span style=\"color: #800080; text-decoration-color: #800080\">│</span>\n",
       "<span style=\"color: #800080; text-decoration-color: #800080\">│</span>  <span style=\"color: #c0c0c0; text-decoration-color: #c0c0c0\">Using Tool: </span><span style=\"color: #00ff00; text-decoration-color: #00ff00; font-weight: bold\">Search the internet with Serper</span>                                                                    <span style=\"color: #800080; text-decoration-color: #800080\">│</span>\n",
       "<span style=\"color: #800080; text-decoration-color: #800080\">│</span>                                                                                                                 <span style=\"color: #800080; text-decoration-color: #800080\">│</span>\n",
       "<span style=\"color: #800080; text-decoration-color: #800080\">╰─────────────────────────────────────────────────────────────────────────────────────────────────────────────────╯</span>\n",
       "</pre>\n"
      ]
     },
     "metadata": {},
     "output_type": "display_data"
    },
    {
     "data": {
      "text/plain": [
       "\u001B[34m╭─\u001B[0m\u001B[34m─────────────────────────────────────────────────\u001B[0m\u001B[34m Tool Input \u001B[0m\u001B[34m──────────────────────────────────────────────────\u001B[0m\u001B[34m─╮\u001B[0m\n",
       "\u001B[34m│\u001B[0m                                                                                                                 \u001B[34m│\u001B[0m\n",
       "\u001B[34m│\u001B[0m  \u001B[38;2;230;219;116;49m\"{\\\"search_query\\\": {\\\"description\\\": \\\"Agentic AI latest facts\\\", \\\"type\\\": \\\"str\\\"}, \\\"search_type\\\": \u001B[0m       \u001B[34m│\u001B[0m\n",
       "\u001B[34m│\u001B[0m  \u001B[38;2;230;219;116;49m\\\"search\\\"}\"\u001B[0m                                                                                                   \u001B[34m│\u001B[0m\n",
       "\u001B[34m│\u001B[0m                                                                                                                 \u001B[34m│\u001B[0m\n",
       "\u001B[34m╰─────────────────────────────────────────────────────────────────────────────────────────────────────────────────╯\u001B[0m\n"
      ],
      "text/html": [
       "<pre style=\"white-space:pre;overflow-x:auto;line-height:normal;font-family:Menlo,'DejaVu Sans Mono',consolas,'Courier New',monospace\"><span style=\"color: #000080; text-decoration-color: #000080\">╭────────────────────────────────────────────────── Tool Input ───────────────────────────────────────────────────╮</span>\n",
       "<span style=\"color: #000080; text-decoration-color: #000080\">│</span>                                                                                                                 <span style=\"color: #000080; text-decoration-color: #000080\">│</span>\n",
       "<span style=\"color: #000080; text-decoration-color: #000080\">│</span>  <span style=\"color: #e6db74; text-decoration-color: #e6db74; background-color: #ffffff\">\"{\\\"search_query\\\": {\\\"description\\\": \\\"Agentic AI latest facts\\\", \\\"type\\\": \\\"str\\\"}, \\\"search_type\\\": </span>       <span style=\"color: #000080; text-decoration-color: #000080\">│</span>\n",
       "<span style=\"color: #000080; text-decoration-color: #000080\">│</span>  <span style=\"color: #e6db74; text-decoration-color: #e6db74; background-color: #ffffff\">\\\"search\\\"}\"</span>                                                                                                   <span style=\"color: #000080; text-decoration-color: #000080\">│</span>\n",
       "<span style=\"color: #000080; text-decoration-color: #000080\">│</span>                                                                                                                 <span style=\"color: #000080; text-decoration-color: #000080\">│</span>\n",
       "<span style=\"color: #000080; text-decoration-color: #000080\">╰─────────────────────────────────────────────────────────────────────────────────────────────────────────────────╯</span>\n",
       "</pre>\n"
      ]
     },
     "metadata": {},
     "output_type": "display_data"
    },
    {
     "data": {
      "text/plain": [
       "\u001B[32m╭─\u001B[0m\u001B[32m─────────────────────────────────────────────────\u001B[0m\u001B[32m Tool Output \u001B[0m\u001B[32m─────────────────────────────────────────────────\u001B[0m\u001B[32m─╮\u001B[0m\n",
       "\u001B[32m│\u001B[0m                                                                                                                 \u001B[32m│\u001B[0m\n",
       "\u001B[32m│\u001B[0m                                                                                                                 \u001B[32m│\u001B[0m\n",
       "\u001B[32m│\u001B[0m  \u001B[92mI encountered an error while trying to use the tool. This was the error: Arguments validation failed: 1 \u001B[0m       \u001B[32m│\u001B[0m\n",
       "\u001B[32m│\u001B[0m  \u001B[92mvalidation error for SerperDevToolSchema\u001B[0m                                                                       \u001B[32m│\u001B[0m\n",
       "\u001B[32m│\u001B[0m  \u001B[92msearch_query\u001B[0m                                                                                                   \u001B[32m│\u001B[0m\n",
       "\u001B[32m│\u001B[0m  \u001B[92m  Input should be a valid string [type=string_type, input_value={'description': 'Agentic ...t facts', 'type':\u001B[0m  \u001B[32m│\u001B[0m\n",
       "\u001B[32m│\u001B[0m  \u001B[92m'str'}, input_type=dict]\u001B[0m                                                                                       \u001B[32m│\u001B[0m\n",
       "\u001B[32m│\u001B[0m  \u001B[92m    For further information visit https://errors.pydantic.dev/2.11/v/string_type.\u001B[0m                              \u001B[32m│\u001B[0m\n",
       "\u001B[32m│\u001B[0m  \u001B[92m Tool Search the internet with Serper accepts these inputs: Tool Name: Search the internet with Serper\u001B[0m         \u001B[32m│\u001B[0m\n",
       "\u001B[32m│\u001B[0m  \u001B[92mTool Arguments: {'search_query': {'description': 'Mandatory search query you want to use to search the \u001B[0m        \u001B[32m│\u001B[0m\n",
       "\u001B[32m│\u001B[0m  \u001B[92minternet', 'type': 'str'}}\u001B[0m                                                                                     \u001B[32m│\u001B[0m\n",
       "\u001B[32m│\u001B[0m  \u001B[92mTool Description: A tool that can be used to search the internet with a search_query. Supports different \u001B[0m      \u001B[32m│\u001B[0m\n",
       "\u001B[32m│\u001B[0m  \u001B[92msearch types: 'search' (default), 'news'.\u001B[0m                                                                      \u001B[32m│\u001B[0m\n",
       "\u001B[32m│\u001B[0m  \u001B[92mMoving on then. I MUST either use a tool (use one at time) OR give my best final answer not both at the same \u001B[0m  \u001B[32m│\u001B[0m\n",
       "\u001B[32m│\u001B[0m  \u001B[92mtime. When responding, I must use the following format:\u001B[0m                                                        \u001B[32m│\u001B[0m\n",
       "\u001B[32m│\u001B[0m                                                                                                                 \u001B[32m│\u001B[0m\n",
       "\u001B[32m│\u001B[0m  \u001B[92m```\u001B[0m                                                                                                            \u001B[32m│\u001B[0m\n",
       "\u001B[32m│\u001B[0m  \u001B[92mThought: you should always think about what to do\u001B[0m                                                              \u001B[32m│\u001B[0m\n",
       "\u001B[32m│\u001B[0m  \u001B[92mAction: the action to take, should be one of [Search the internet with Serper]\u001B[0m                                 \u001B[32m│\u001B[0m\n",
       "\u001B[32m│\u001B[0m  \u001B[92mAction Input: the input to the action, dictionary enclosed in curly braces\u001B[0m                                     \u001B[32m│\u001B[0m\n",
       "\u001B[32m│\u001B[0m  \u001B[92mObservation: the result of the action\u001B[0m                                                                          \u001B[32m│\u001B[0m\n",
       "\u001B[32m│\u001B[0m  \u001B[92m```\u001B[0m                                                                                                            \u001B[32m│\u001B[0m\n",
       "\u001B[32m│\u001B[0m  \u001B[92mThis Thought/Action/Action Input/Result can repeat N times. Once I know the final answer, I must return the \u001B[0m   \u001B[32m│\u001B[0m\n",
       "\u001B[32m│\u001B[0m  \u001B[92mfollowing format:\u001B[0m                                                                                              \u001B[32m│\u001B[0m\n",
       "\u001B[32m│\u001B[0m                                                                                                                 \u001B[32m│\u001B[0m\n",
       "\u001B[32m│\u001B[0m  \u001B[92m```\u001B[0m                                                                                                            \u001B[32m│\u001B[0m\n",
       "\u001B[32m│\u001B[0m  \u001B[92mThought: I now can give a great answer\u001B[0m                                                                         \u001B[32m│\u001B[0m\n",
       "\u001B[32m│\u001B[0m  \u001B[92mFinal Answer: Your final answer must be the great and the most complete as possible, it must be outcome \u001B[0m       \u001B[32m│\u001B[0m\n",
       "\u001B[32m│\u001B[0m  \u001B[92mdescribed\u001B[0m                                                                                                      \u001B[32m│\u001B[0m\n",
       "\u001B[32m│\u001B[0m                                                                                                                 \u001B[32m│\u001B[0m\n",
       "\u001B[32m│\u001B[0m  \u001B[92m```\u001B[0m                                                                                                            \u001B[32m│\u001B[0m\n",
       "\u001B[32m│\u001B[0m                                                                                                                 \u001B[32m│\u001B[0m\n",
       "\u001B[32m╰─────────────────────────────────────────────────────────────────────────────────────────────────────────────────╯\u001B[0m\n"
      ],
      "text/html": [
       "<pre style=\"white-space:pre;overflow-x:auto;line-height:normal;font-family:Menlo,'DejaVu Sans Mono',consolas,'Courier New',monospace\"><span style=\"color: #008000; text-decoration-color: #008000\">╭────────────────────────────────────────────────── Tool Output ──────────────────────────────────────────────────╮</span>\n",
       "<span style=\"color: #008000; text-decoration-color: #008000\">│</span>                                                                                                                 <span style=\"color: #008000; text-decoration-color: #008000\">│</span>\n",
       "<span style=\"color: #008000; text-decoration-color: #008000\">│</span>                                                                                                                 <span style=\"color: #008000; text-decoration-color: #008000\">│</span>\n",
       "<span style=\"color: #008000; text-decoration-color: #008000\">│</span>  <span style=\"color: #00ff00; text-decoration-color: #00ff00\">I encountered an error while trying to use the tool. This was the error: Arguments validation failed: 1 </span>       <span style=\"color: #008000; text-decoration-color: #008000\">│</span>\n",
       "<span style=\"color: #008000; text-decoration-color: #008000\">│</span>  <span style=\"color: #00ff00; text-decoration-color: #00ff00\">validation error for SerperDevToolSchema</span>                                                                       <span style=\"color: #008000; text-decoration-color: #008000\">│</span>\n",
       "<span style=\"color: #008000; text-decoration-color: #008000\">│</span>  <span style=\"color: #00ff00; text-decoration-color: #00ff00\">search_query</span>                                                                                                   <span style=\"color: #008000; text-decoration-color: #008000\">│</span>\n",
       "<span style=\"color: #008000; text-decoration-color: #008000\">│</span>  <span style=\"color: #00ff00; text-decoration-color: #00ff00\">  Input should be a valid string [type=string_type, input_value={'description': 'Agentic ...t facts', 'type':</span>  <span style=\"color: #008000; text-decoration-color: #008000\">│</span>\n",
       "<span style=\"color: #008000; text-decoration-color: #008000\">│</span>  <span style=\"color: #00ff00; text-decoration-color: #00ff00\">'str'}, input_type=dict]</span>                                                                                       <span style=\"color: #008000; text-decoration-color: #008000\">│</span>\n",
       "<span style=\"color: #008000; text-decoration-color: #008000\">│</span>  <span style=\"color: #00ff00; text-decoration-color: #00ff00\">    For further information visit https://errors.pydantic.dev/2.11/v/string_type.</span>                              <span style=\"color: #008000; text-decoration-color: #008000\">│</span>\n",
       "<span style=\"color: #008000; text-decoration-color: #008000\">│</span>  <span style=\"color: #00ff00; text-decoration-color: #00ff00\"> Tool Search the internet with Serper accepts these inputs: Tool Name: Search the internet with Serper</span>         <span style=\"color: #008000; text-decoration-color: #008000\">│</span>\n",
       "<span style=\"color: #008000; text-decoration-color: #008000\">│</span>  <span style=\"color: #00ff00; text-decoration-color: #00ff00\">Tool Arguments: {'search_query': {'description': 'Mandatory search query you want to use to search the </span>        <span style=\"color: #008000; text-decoration-color: #008000\">│</span>\n",
       "<span style=\"color: #008000; text-decoration-color: #008000\">│</span>  <span style=\"color: #00ff00; text-decoration-color: #00ff00\">internet', 'type': 'str'}}</span>                                                                                     <span style=\"color: #008000; text-decoration-color: #008000\">│</span>\n",
       "<span style=\"color: #008000; text-decoration-color: #008000\">│</span>  <span style=\"color: #00ff00; text-decoration-color: #00ff00\">Tool Description: A tool that can be used to search the internet with a search_query. Supports different </span>      <span style=\"color: #008000; text-decoration-color: #008000\">│</span>\n",
       "<span style=\"color: #008000; text-decoration-color: #008000\">│</span>  <span style=\"color: #00ff00; text-decoration-color: #00ff00\">search types: 'search' (default), 'news'.</span>                                                                      <span style=\"color: #008000; text-decoration-color: #008000\">│</span>\n",
       "<span style=\"color: #008000; text-decoration-color: #008000\">│</span>  <span style=\"color: #00ff00; text-decoration-color: #00ff00\">Moving on then. I MUST either use a tool (use one at time) OR give my best final answer not both at the same </span>  <span style=\"color: #008000; text-decoration-color: #008000\">│</span>\n",
       "<span style=\"color: #008000; text-decoration-color: #008000\">│</span>  <span style=\"color: #00ff00; text-decoration-color: #00ff00\">time. When responding, I must use the following format:</span>                                                        <span style=\"color: #008000; text-decoration-color: #008000\">│</span>\n",
       "<span style=\"color: #008000; text-decoration-color: #008000\">│</span>                                                                                                                 <span style=\"color: #008000; text-decoration-color: #008000\">│</span>\n",
       "<span style=\"color: #008000; text-decoration-color: #008000\">│</span>  <span style=\"color: #00ff00; text-decoration-color: #00ff00\">```</span>                                                                                                            <span style=\"color: #008000; text-decoration-color: #008000\">│</span>\n",
       "<span style=\"color: #008000; text-decoration-color: #008000\">│</span>  <span style=\"color: #00ff00; text-decoration-color: #00ff00\">Thought: you should always think about what to do</span>                                                              <span style=\"color: #008000; text-decoration-color: #008000\">│</span>\n",
       "<span style=\"color: #008000; text-decoration-color: #008000\">│</span>  <span style=\"color: #00ff00; text-decoration-color: #00ff00\">Action: the action to take, should be one of [Search the internet with Serper]</span>                                 <span style=\"color: #008000; text-decoration-color: #008000\">│</span>\n",
       "<span style=\"color: #008000; text-decoration-color: #008000\">│</span>  <span style=\"color: #00ff00; text-decoration-color: #00ff00\">Action Input: the input to the action, dictionary enclosed in curly braces</span>                                     <span style=\"color: #008000; text-decoration-color: #008000\">│</span>\n",
       "<span style=\"color: #008000; text-decoration-color: #008000\">│</span>  <span style=\"color: #00ff00; text-decoration-color: #00ff00\">Observation: the result of the action</span>                                                                          <span style=\"color: #008000; text-decoration-color: #008000\">│</span>\n",
       "<span style=\"color: #008000; text-decoration-color: #008000\">│</span>  <span style=\"color: #00ff00; text-decoration-color: #00ff00\">```</span>                                                                                                            <span style=\"color: #008000; text-decoration-color: #008000\">│</span>\n",
       "<span style=\"color: #008000; text-decoration-color: #008000\">│</span>  <span style=\"color: #00ff00; text-decoration-color: #00ff00\">This Thought/Action/Action Input/Result can repeat N times. Once I know the final answer, I must return the </span>   <span style=\"color: #008000; text-decoration-color: #008000\">│</span>\n",
       "<span style=\"color: #008000; text-decoration-color: #008000\">│</span>  <span style=\"color: #00ff00; text-decoration-color: #00ff00\">following format:</span>                                                                                              <span style=\"color: #008000; text-decoration-color: #008000\">│</span>\n",
       "<span style=\"color: #008000; text-decoration-color: #008000\">│</span>                                                                                                                 <span style=\"color: #008000; text-decoration-color: #008000\">│</span>\n",
       "<span style=\"color: #008000; text-decoration-color: #008000\">│</span>  <span style=\"color: #00ff00; text-decoration-color: #00ff00\">```</span>                                                                                                            <span style=\"color: #008000; text-decoration-color: #008000\">│</span>\n",
       "<span style=\"color: #008000; text-decoration-color: #008000\">│</span>  <span style=\"color: #00ff00; text-decoration-color: #00ff00\">Thought: I now can give a great answer</span>                                                                         <span style=\"color: #008000; text-decoration-color: #008000\">│</span>\n",
       "<span style=\"color: #008000; text-decoration-color: #008000\">│</span>  <span style=\"color: #00ff00; text-decoration-color: #00ff00\">Final Answer: Your final answer must be the great and the most complete as possible, it must be outcome </span>       <span style=\"color: #008000; text-decoration-color: #008000\">│</span>\n",
       "<span style=\"color: #008000; text-decoration-color: #008000\">│</span>  <span style=\"color: #00ff00; text-decoration-color: #00ff00\">described</span>                                                                                                      <span style=\"color: #008000; text-decoration-color: #008000\">│</span>\n",
       "<span style=\"color: #008000; text-decoration-color: #008000\">│</span>                                                                                                                 <span style=\"color: #008000; text-decoration-color: #008000\">│</span>\n",
       "<span style=\"color: #008000; text-decoration-color: #008000\">│</span>  <span style=\"color: #00ff00; text-decoration-color: #00ff00\">```</span>                                                                                                            <span style=\"color: #008000; text-decoration-color: #008000\">│</span>\n",
       "<span style=\"color: #008000; text-decoration-color: #008000\">│</span>                                                                                                                 <span style=\"color: #008000; text-decoration-color: #008000\">│</span>\n",
       "<span style=\"color: #008000; text-decoration-color: #008000\">╰─────────────────────────────────────────────────────────────────────────────────────────────────────────────────╯</span>\n",
       "</pre>\n"
      ]
     },
     "metadata": {},
     "output_type": "display_data"
    },
    {
     "data": {
      "text/plain": [
       "\n"
      ],
      "text/html": [
       "<pre style=\"white-space:pre;overflow-x:auto;line-height:normal;font-family:Menlo,'DejaVu Sans Mono',consolas,'Courier New',monospace\">\n",
       "</pre>\n"
      ]
     },
     "metadata": {},
     "output_type": "display_data"
    },
    {
     "data": {
      "text/plain": [
       "E:\\PY_Workspace\\CrewAi-Introduction\\.venv\\Lib\\site-packages\\rich\\live.py:231: UserWarning: install \"ipywidgets\" for\n",
       "Jupyter support\n",
       "  warnings.warn('install \"ipywidgets\" for Jupyter support')\n"
      ],
      "text/html": [
       "<pre style=\"white-space:pre;overflow-x:auto;line-height:normal;font-family:Menlo,'DejaVu Sans Mono',consolas,'Courier New',monospace\">E:\\PY_Workspace\\CrewAi-Introduction\\.venv\\Lib\\site-packages\\rich\\live.py:231: UserWarning: install \"ipywidgets\" for\n",
       "Jupyter support\n",
       "  warnings.warn('install \"ipywidgets\" for Jupyter support')\n",
       "</pre>\n"
      ]
     },
     "metadata": {},
     "output_type": "display_data"
    },
    {
     "data": {
      "text/plain": [],
      "text/html": [
       "<pre style=\"white-space:pre;overflow-x:auto;line-height:normal;font-family:Menlo,'DejaVu Sans Mono',consolas,'Courier New',monospace\"></pre>\n"
      ]
     },
     "metadata": {},
     "output_type": "display_data"
    },
    {
     "data": {
      "text/plain": [
       "\u001B[35m╭─\u001B[0m\u001B[35m───────────────────────────────────────────\u001B[0m\u001B[35m 🔧 Agent Tool Execution \u001B[0m\u001B[35m───────────────────────────────────────────\u001B[0m\u001B[35m─╮\u001B[0m\n",
       "\u001B[35m│\u001B[0m                                                                                                                 \u001B[35m│\u001B[0m\n",
       "\u001B[35m│\u001B[0m  \u001B[37mAgent: \u001B[0m\u001B[1;92mmarket researcher\u001B[0m                                                                                       \u001B[35m│\u001B[0m\n",
       "\u001B[35m│\u001B[0m                                                                                                                 \u001B[35m│\u001B[0m\n",
       "\u001B[35m│\u001B[0m  \u001B[37mThought: \u001B[0m\u001B[92mNow, I am trying again using only Search the internet with Serper\u001B[0m                                     \u001B[35m│\u001B[0m\n",
       "\u001B[35m│\u001B[0m  \u001B[92mThought: Use the internet search\u001B[0m                                                                               \u001B[35m│\u001B[0m\n",
       "\u001B[35m│\u001B[0m                                                                                                                 \u001B[35m│\u001B[0m\n",
       "\u001B[35m│\u001B[0m  \u001B[37mUsing Tool: \u001B[0m\u001B[1;92mSearch the internet with Serper\u001B[0m                                                                    \u001B[35m│\u001B[0m\n",
       "\u001B[35m│\u001B[0m                                                                                                                 \u001B[35m│\u001B[0m\n",
       "\u001B[35m╰─────────────────────────────────────────────────────────────────────────────────────────────────────────────────╯\u001B[0m\n"
      ],
      "text/html": [
       "<pre style=\"white-space:pre;overflow-x:auto;line-height:normal;font-family:Menlo,'DejaVu Sans Mono',consolas,'Courier New',monospace\"><span style=\"color: #800080; text-decoration-color: #800080\">╭──────────────────────────────────────────── 🔧 Agent Tool Execution ────────────────────────────────────────────╮</span>\n",
       "<span style=\"color: #800080; text-decoration-color: #800080\">│</span>                                                                                                                 <span style=\"color: #800080; text-decoration-color: #800080\">│</span>\n",
       "<span style=\"color: #800080; text-decoration-color: #800080\">│</span>  <span style=\"color: #c0c0c0; text-decoration-color: #c0c0c0\">Agent: </span><span style=\"color: #00ff00; text-decoration-color: #00ff00; font-weight: bold\">market researcher</span>                                                                                       <span style=\"color: #800080; text-decoration-color: #800080\">│</span>\n",
       "<span style=\"color: #800080; text-decoration-color: #800080\">│</span>                                                                                                                 <span style=\"color: #800080; text-decoration-color: #800080\">│</span>\n",
       "<span style=\"color: #800080; text-decoration-color: #800080\">│</span>  <span style=\"color: #c0c0c0; text-decoration-color: #c0c0c0\">Thought: </span><span style=\"color: #00ff00; text-decoration-color: #00ff00\">Now, I am trying again using only Search the internet with Serper</span>                                     <span style=\"color: #800080; text-decoration-color: #800080\">│</span>\n",
       "<span style=\"color: #800080; text-decoration-color: #800080\">│</span>  <span style=\"color: #00ff00; text-decoration-color: #00ff00\">Thought: Use the internet search</span>                                                                               <span style=\"color: #800080; text-decoration-color: #800080\">│</span>\n",
       "<span style=\"color: #800080; text-decoration-color: #800080\">│</span>                                                                                                                 <span style=\"color: #800080; text-decoration-color: #800080\">│</span>\n",
       "<span style=\"color: #800080; text-decoration-color: #800080\">│</span>  <span style=\"color: #c0c0c0; text-decoration-color: #c0c0c0\">Using Tool: </span><span style=\"color: #00ff00; text-decoration-color: #00ff00; font-weight: bold\">Search the internet with Serper</span>                                                                    <span style=\"color: #800080; text-decoration-color: #800080\">│</span>\n",
       "<span style=\"color: #800080; text-decoration-color: #800080\">│</span>                                                                                                                 <span style=\"color: #800080; text-decoration-color: #800080\">│</span>\n",
       "<span style=\"color: #800080; text-decoration-color: #800080\">╰─────────────────────────────────────────────────────────────────────────────────────────────────────────────────╯</span>\n",
       "</pre>\n"
      ]
     },
     "metadata": {},
     "output_type": "display_data"
    },
    {
     "data": {
      "text/plain": [
       "\u001B[34m╭─\u001B[0m\u001B[34m─────────────────────────────────────────────────\u001B[0m\u001B[34m Tool Input \u001B[0m\u001B[34m──────────────────────────────────────────────────\u001B[0m\u001B[34m─╮\u001B[0m\n",
       "\u001B[34m│\u001B[0m                                                                                                                 \u001B[34m│\u001B[0m\n",
       "\u001B[34m│\u001B[0m  \u001B[38;2;230;219;116;49m\"{\\\"search_query\\\": \\\"Latest information on Agentic AI\\\", \\\"search_type\\\": \\\"search\\\"}\"\u001B[0m                        \u001B[34m│\u001B[0m\n",
       "\u001B[34m│\u001B[0m                                                                                                                 \u001B[34m│\u001B[0m\n",
       "\u001B[34m╰─────────────────────────────────────────────────────────────────────────────────────────────────────────────────╯\u001B[0m\n"
      ],
      "text/html": [
       "<pre style=\"white-space:pre;overflow-x:auto;line-height:normal;font-family:Menlo,'DejaVu Sans Mono',consolas,'Courier New',monospace\"><span style=\"color: #000080; text-decoration-color: #000080\">╭────────────────────────────────────────────────── Tool Input ───────────────────────────────────────────────────╮</span>\n",
       "<span style=\"color: #000080; text-decoration-color: #000080\">│</span>                                                                                                                 <span style=\"color: #000080; text-decoration-color: #000080\">│</span>\n",
       "<span style=\"color: #000080; text-decoration-color: #000080\">│</span>  <span style=\"color: #e6db74; text-decoration-color: #e6db74; background-color: #ffffff\">\"{\\\"search_query\\\": \\\"Latest information on Agentic AI\\\", \\\"search_type\\\": \\\"search\\\"}\"</span>                        <span style=\"color: #000080; text-decoration-color: #000080\">│</span>\n",
       "<span style=\"color: #000080; text-decoration-color: #000080\">│</span>                                                                                                                 <span style=\"color: #000080; text-decoration-color: #000080\">│</span>\n",
       "<span style=\"color: #000080; text-decoration-color: #000080\">╰─────────────────────────────────────────────────────────────────────────────────────────────────────────────────╯</span>\n",
       "</pre>\n"
      ]
     },
     "metadata": {},
     "output_type": "display_data"
    },
    {
     "data": {
      "text/plain": [
       "\u001B[32m╭─\u001B[0m\u001B[32m─────────────────────────────────────────────────\u001B[0m\u001B[32m Tool Output \u001B[0m\u001B[32m─────────────────────────────────────────────────\u001B[0m\u001B[32m─╮\u001B[0m\n",
       "\u001B[32m│\u001B[0m                                                                                                                 \u001B[32m│\u001B[0m\n",
       "\u001B[32m│\u001B[0m  \u001B[92m{'searchParameters': {'q': 'Latest information on Agentic AI', 'type': 'search', 'num': 10, 'engine': \u001B[0m         \u001B[32m│\u001B[0m\n",
       "\u001B[32m│\u001B[0m  \u001B[92m'google'}, 'organic': [{'title': 'Agent Factory: The new era of agentic AI—common use ...', 'link': \u001B[0m           \u001B[32m│\u001B[0m\n",
       "\u001B[32m│\u001B[0m  \u001B[92m'https://azure.microsoft.com/en-us/blog/agent-factory-the-new-era-of-agentic-ai-common-use-cases-and-design-p\u001B[0m  \u001B[32m│\u001B[0m\n",
       "\u001B[32m│\u001B[0m  \u001B[92matterns/', 'snippet': 'Agents now surface answers and also complete tasks, update records, and orchestrate \u001B[0m    \u001B[32m│\u001B[0m\n",
       "\u001B[32m│\u001B[0m  \u001B[92mworkflows end-to-end. Fujitsu transformed its sales proposal ...', 'position': 1}, {'title': 'Scientific \u001B[0m      \u001B[32m│\u001B[0m\n",
       "\u001B[32m│\u001B[0m  \u001B[92mfrontiers of agentic AI', 'link': 'https://www.amazon.science/blog/scientific-frontiers-of-agentic-ai', \u001B[0m       \u001B[32m│\u001B[0m\n",
       "\u001B[32m│\u001B[0m  \u001B[92m'snippet': \"The language AI agents might speak, sharing context without compromising privacy, modeling \u001B[0m        \u001B[32m│\u001B[0m\n",
       "\u001B[32m│\u001B[0m  \u001B[92magentic negotiations, and understanding users' commonsense ...\", 'position': 2}, {'title': 'Empowering \u001B[0m        \u001B[32m│\u001B[0m\n",
       "\u001B[32m│\u001B[0m  \u001B[92madvanced industries with agentic AI', 'link': \u001B[0m                                                                 \u001B[32m│\u001B[0m\n",
       "\u001B[32m│\u001B[0m  \u001B[92m'https://www.mckinsey.com/industries/automotive-and-assembly/our-insights/empowering-advanced-industries-with\u001B[0m  \u001B[32m│\u001B[0m\n",
       "\u001B[32m│\u001B[0m  \u001B[92m-agentic-ai', 'snippet': 'By automating workflows, enhancing quality control, and driving innovation, agentic\u001B[0m  \u001B[32m│\u001B[0m\n",
       "\u001B[32m│\u001B[0m  \u001B[92mAI enables companies to reengineer end-to-end processes, ...', 'position': 3}, {'title': 'Agentic AI recent \u001B[0m   \u001B[32m│\u001B[0m\n",
       "\u001B[32m│\u001B[0m  \u001B[92mnews', 'link': 'https://aibusiness.com/generative-ai/agentic-ai', 'snippet': 'Explore the latest news and \u001B[0m     \u001B[32m│\u001B[0m\n",
       "\u001B[32m│\u001B[0m  \u001B[92mexpert commentary on Agentic AI, brought to you by the editors of AI Business.', 'position': 4}, {'title': \u001B[0m    \u001B[32m│\u001B[0m\n",
       "\u001B[32m│\u001B[0m  \u001B[92m'Latest Agentic AI News Today | Trends, Predictions, & ...', 'link': \u001B[0m                                          \u001B[32m│\u001B[0m\n",
       "\u001B[32m│\u001B[0m  \u001B[92m'https://www.forbes.com/topics/agentic-ai/', 'snippet': 'Agentic AI Remakes Enterprise Operations. From ERP \u001B[0m   \u001B[32m│\u001B[0m\n",
       "\u001B[32m│\u001B[0m  \u001B[92mto IT services, autonomous AI agents are moving beyond hype to actively reshape core business functions and \u001B[0m   \u001B[32m│\u001B[0m\n",
       "\u001B[32m│\u001B[0m  \u001B[92m...', 'position': 5}, {'title': 'Gartner Predicts Over 40% of Agentic AI Projects Will Be ...', 'link': \u001B[0m       \u001B[32m│\u001B[0m\n",
       "\u001B[32m│\u001B[0m  \u001B[92m'https://www.gartner.com/en/newsroom/press-releases/2025-06-25-gartner-predicts-over-40-percent-of-agentic-ai\u001B[0m  \u001B[32m│\u001B[0m\n",
       "\u001B[32m│\u001B[0m  \u001B[92m-projects-will-be-canceled-by-end-of-2027', 'snippet': 'Over 40% of agentic AI p...\u001B[0m                            \u001B[32m│\u001B[0m\n",
       "\u001B[32m│\u001B[0m                                                                                                                 \u001B[32m│\u001B[0m\n",
       "\u001B[32m╰─────────────────────────────────────────────────────────────────────────────────────────────────────────────────╯\u001B[0m\n"
      ],
      "text/html": [
       "<pre style=\"white-space:pre;overflow-x:auto;line-height:normal;font-family:Menlo,'DejaVu Sans Mono',consolas,'Courier New',monospace\"><span style=\"color: #008000; text-decoration-color: #008000\">╭────────────────────────────────────────────────── Tool Output ──────────────────────────────────────────────────╮</span>\n",
       "<span style=\"color: #008000; text-decoration-color: #008000\">│</span>                                                                                                                 <span style=\"color: #008000; text-decoration-color: #008000\">│</span>\n",
       "<span style=\"color: #008000; text-decoration-color: #008000\">│</span>  <span style=\"color: #00ff00; text-decoration-color: #00ff00\">{'searchParameters': {'q': 'Latest information on Agentic AI', 'type': 'search', 'num': 10, 'engine': </span>         <span style=\"color: #008000; text-decoration-color: #008000\">│</span>\n",
       "<span style=\"color: #008000; text-decoration-color: #008000\">│</span>  <span style=\"color: #00ff00; text-decoration-color: #00ff00\">'google'}, 'organic': [{'title': 'Agent Factory: The new era of agentic AI—common use ...', 'link': </span>           <span style=\"color: #008000; text-decoration-color: #008000\">│</span>\n",
       "<span style=\"color: #008000; text-decoration-color: #008000\">│</span>  <span style=\"color: #00ff00; text-decoration-color: #00ff00\">'https://azure.microsoft.com/en-us/blog/agent-factory-the-new-era-of-agentic-ai-common-use-cases-and-design-p</span>  <span style=\"color: #008000; text-decoration-color: #008000\">│</span>\n",
       "<span style=\"color: #008000; text-decoration-color: #008000\">│</span>  <span style=\"color: #00ff00; text-decoration-color: #00ff00\">atterns/', 'snippet': 'Agents now surface answers and also complete tasks, update records, and orchestrate </span>    <span style=\"color: #008000; text-decoration-color: #008000\">│</span>\n",
       "<span style=\"color: #008000; text-decoration-color: #008000\">│</span>  <span style=\"color: #00ff00; text-decoration-color: #00ff00\">workflows end-to-end. Fujitsu transformed its sales proposal ...', 'position': 1}, {'title': 'Scientific </span>      <span style=\"color: #008000; text-decoration-color: #008000\">│</span>\n",
       "<span style=\"color: #008000; text-decoration-color: #008000\">│</span>  <span style=\"color: #00ff00; text-decoration-color: #00ff00\">frontiers of agentic AI', 'link': 'https://www.amazon.science/blog/scientific-frontiers-of-agentic-ai', </span>       <span style=\"color: #008000; text-decoration-color: #008000\">│</span>\n",
       "<span style=\"color: #008000; text-decoration-color: #008000\">│</span>  <span style=\"color: #00ff00; text-decoration-color: #00ff00\">'snippet': \"The language AI agents might speak, sharing context without compromising privacy, modeling </span>        <span style=\"color: #008000; text-decoration-color: #008000\">│</span>\n",
       "<span style=\"color: #008000; text-decoration-color: #008000\">│</span>  <span style=\"color: #00ff00; text-decoration-color: #00ff00\">agentic negotiations, and understanding users' commonsense ...\", 'position': 2}, {'title': 'Empowering </span>        <span style=\"color: #008000; text-decoration-color: #008000\">│</span>\n",
       "<span style=\"color: #008000; text-decoration-color: #008000\">│</span>  <span style=\"color: #00ff00; text-decoration-color: #00ff00\">advanced industries with agentic AI', 'link': </span>                                                                 <span style=\"color: #008000; text-decoration-color: #008000\">│</span>\n",
       "<span style=\"color: #008000; text-decoration-color: #008000\">│</span>  <span style=\"color: #00ff00; text-decoration-color: #00ff00\">'https://www.mckinsey.com/industries/automotive-and-assembly/our-insights/empowering-advanced-industries-with</span>  <span style=\"color: #008000; text-decoration-color: #008000\">│</span>\n",
       "<span style=\"color: #008000; text-decoration-color: #008000\">│</span>  <span style=\"color: #00ff00; text-decoration-color: #00ff00\">-agentic-ai', 'snippet': 'By automating workflows, enhancing quality control, and driving innovation, agentic</span>  <span style=\"color: #008000; text-decoration-color: #008000\">│</span>\n",
       "<span style=\"color: #008000; text-decoration-color: #008000\">│</span>  <span style=\"color: #00ff00; text-decoration-color: #00ff00\">AI enables companies to reengineer end-to-end processes, ...', 'position': 3}, {'title': 'Agentic AI recent </span>   <span style=\"color: #008000; text-decoration-color: #008000\">│</span>\n",
       "<span style=\"color: #008000; text-decoration-color: #008000\">│</span>  <span style=\"color: #00ff00; text-decoration-color: #00ff00\">news', 'link': 'https://aibusiness.com/generative-ai/agentic-ai', 'snippet': 'Explore the latest news and </span>     <span style=\"color: #008000; text-decoration-color: #008000\">│</span>\n",
       "<span style=\"color: #008000; text-decoration-color: #008000\">│</span>  <span style=\"color: #00ff00; text-decoration-color: #00ff00\">expert commentary on Agentic AI, brought to you by the editors of AI Business.', 'position': 4}, {'title': </span>    <span style=\"color: #008000; text-decoration-color: #008000\">│</span>\n",
       "<span style=\"color: #008000; text-decoration-color: #008000\">│</span>  <span style=\"color: #00ff00; text-decoration-color: #00ff00\">'Latest Agentic AI News Today | Trends, Predictions, &amp; ...', 'link': </span>                                          <span style=\"color: #008000; text-decoration-color: #008000\">│</span>\n",
       "<span style=\"color: #008000; text-decoration-color: #008000\">│</span>  <span style=\"color: #00ff00; text-decoration-color: #00ff00\">'https://www.forbes.com/topics/agentic-ai/', 'snippet': 'Agentic AI Remakes Enterprise Operations. From ERP </span>   <span style=\"color: #008000; text-decoration-color: #008000\">│</span>\n",
       "<span style=\"color: #008000; text-decoration-color: #008000\">│</span>  <span style=\"color: #00ff00; text-decoration-color: #00ff00\">to IT services, autonomous AI agents are moving beyond hype to actively reshape core business functions and </span>   <span style=\"color: #008000; text-decoration-color: #008000\">│</span>\n",
       "<span style=\"color: #008000; text-decoration-color: #008000\">│</span>  <span style=\"color: #00ff00; text-decoration-color: #00ff00\">...', 'position': 5}, {'title': 'Gartner Predicts Over 40% of Agentic AI Projects Will Be ...', 'link': </span>       <span style=\"color: #008000; text-decoration-color: #008000\">│</span>\n",
       "<span style=\"color: #008000; text-decoration-color: #008000\">│</span>  <span style=\"color: #00ff00; text-decoration-color: #00ff00\">'https://www.gartner.com/en/newsroom/press-releases/2025-06-25-gartner-predicts-over-40-percent-of-agentic-ai</span>  <span style=\"color: #008000; text-decoration-color: #008000\">│</span>\n",
       "<span style=\"color: #008000; text-decoration-color: #008000\">│</span>  <span style=\"color: #00ff00; text-decoration-color: #00ff00\">-projects-will-be-canceled-by-end-of-2027', 'snippet': 'Over 40% of agentic AI p...</span>                            <span style=\"color: #008000; text-decoration-color: #008000\">│</span>\n",
       "<span style=\"color: #008000; text-decoration-color: #008000\">│</span>                                                                                                                 <span style=\"color: #008000; text-decoration-color: #008000\">│</span>\n",
       "<span style=\"color: #008000; text-decoration-color: #008000\">╰─────────────────────────────────────────────────────────────────────────────────────────────────────────────────╯</span>\n",
       "</pre>\n"
      ]
     },
     "metadata": {},
     "output_type": "display_data"
    },
    {
     "data": {
      "text/plain": [
       "\n"
      ],
      "text/html": [
       "<pre style=\"white-space:pre;overflow-x:auto;line-height:normal;font-family:Menlo,'DejaVu Sans Mono',consolas,'Courier New',monospace\">\n",
       "</pre>\n"
      ]
     },
     "metadata": {},
     "output_type": "display_data"
    },
    {
     "data": {
      "text/plain": [
       "E:\\PY_Workspace\\CrewAi-Introduction\\.venv\\Lib\\site-packages\\rich\\live.py:231: UserWarning: install \"ipywidgets\" for\n",
       "Jupyter support\n",
       "  warnings.warn('install \"ipywidgets\" for Jupyter support')\n"
      ],
      "text/html": [
       "<pre style=\"white-space:pre;overflow-x:auto;line-height:normal;font-family:Menlo,'DejaVu Sans Mono',consolas,'Courier New',monospace\">E:\\PY_Workspace\\CrewAi-Introduction\\.venv\\Lib\\site-packages\\rich\\live.py:231: UserWarning: install \"ipywidgets\" for\n",
       "Jupyter support\n",
       "  warnings.warn('install \"ipywidgets\" for Jupyter support')\n",
       "</pre>\n"
      ]
     },
     "metadata": {},
     "output_type": "display_data"
    },
    {
     "data": {
      "text/plain": [],
      "text/html": [
       "<pre style=\"white-space:pre;overflow-x:auto;line-height:normal;font-family:Menlo,'DejaVu Sans Mono',consolas,'Courier New',monospace\"></pre>\n"
      ]
     },
     "metadata": {},
     "output_type": "display_data"
    },
    {
     "data": {
      "text/plain": [
       "\u001B[35m╭─\u001B[0m\u001B[35m───────────────────────────────────────────\u001B[0m\u001B[35m 🔧 Agent Tool Execution \u001B[0m\u001B[35m───────────────────────────────────────────\u001B[0m\u001B[35m─╮\u001B[0m\n",
       "\u001B[35m│\u001B[0m                                                                                                                 \u001B[35m│\u001B[0m\n",
       "\u001B[35m│\u001B[0m  \u001B[37mAgent: \u001B[0m\u001B[1;92mmarket researcher\u001B[0m                                                                                       \u001B[35m│\u001B[0m\n",
       "\u001B[35m│\u001B[0m                                                                                                                 \u001B[35m│\u001B[0m\n",
       "\u001B[35m│\u001B[0m  \u001B[37mThought: \u001B[0m\u001B[92mNow,  Let me search the internet for more information on Agentic AI \u001B[0m                                  \u001B[35m│\u001B[0m\n",
       "\u001B[35m│\u001B[0m  \u001B[92mThought: Use the internet search\u001B[0m                                                                               \u001B[35m│\u001B[0m\n",
       "\u001B[35m│\u001B[0m                                                                                                                 \u001B[35m│\u001B[0m\n",
       "\u001B[35m│\u001B[0m  \u001B[37mUsing Tool: \u001B[0m\u001B[1;92mSearch the internet with Serper\u001B[0m                                                                    \u001B[35m│\u001B[0m\n",
       "\u001B[35m│\u001B[0m                                                                                                                 \u001B[35m│\u001B[0m\n",
       "\u001B[35m╰─────────────────────────────────────────────────────────────────────────────────────────────────────────────────╯\u001B[0m\n"
      ],
      "text/html": [
       "<pre style=\"white-space:pre;overflow-x:auto;line-height:normal;font-family:Menlo,'DejaVu Sans Mono',consolas,'Courier New',monospace\"><span style=\"color: #800080; text-decoration-color: #800080\">╭──────────────────────────────────────────── 🔧 Agent Tool Execution ────────────────────────────────────────────╮</span>\n",
       "<span style=\"color: #800080; text-decoration-color: #800080\">│</span>                                                                                                                 <span style=\"color: #800080; text-decoration-color: #800080\">│</span>\n",
       "<span style=\"color: #800080; text-decoration-color: #800080\">│</span>  <span style=\"color: #c0c0c0; text-decoration-color: #c0c0c0\">Agent: </span><span style=\"color: #00ff00; text-decoration-color: #00ff00; font-weight: bold\">market researcher</span>                                                                                       <span style=\"color: #800080; text-decoration-color: #800080\">│</span>\n",
       "<span style=\"color: #800080; text-decoration-color: #800080\">│</span>                                                                                                                 <span style=\"color: #800080; text-decoration-color: #800080\">│</span>\n",
       "<span style=\"color: #800080; text-decoration-color: #800080\">│</span>  <span style=\"color: #c0c0c0; text-decoration-color: #c0c0c0\">Thought: </span><span style=\"color: #00ff00; text-decoration-color: #00ff00\">Now,  Let me search the internet for more information on Agentic AI </span>                                  <span style=\"color: #800080; text-decoration-color: #800080\">│</span>\n",
       "<span style=\"color: #800080; text-decoration-color: #800080\">│</span>  <span style=\"color: #00ff00; text-decoration-color: #00ff00\">Thought: Use the internet search</span>                                                                               <span style=\"color: #800080; text-decoration-color: #800080\">│</span>\n",
       "<span style=\"color: #800080; text-decoration-color: #800080\">│</span>                                                                                                                 <span style=\"color: #800080; text-decoration-color: #800080\">│</span>\n",
       "<span style=\"color: #800080; text-decoration-color: #800080\">│</span>  <span style=\"color: #c0c0c0; text-decoration-color: #c0c0c0\">Using Tool: </span><span style=\"color: #00ff00; text-decoration-color: #00ff00; font-weight: bold\">Search the internet with Serper</span>                                                                    <span style=\"color: #800080; text-decoration-color: #800080\">│</span>\n",
       "<span style=\"color: #800080; text-decoration-color: #800080\">│</span>                                                                                                                 <span style=\"color: #800080; text-decoration-color: #800080\">│</span>\n",
       "<span style=\"color: #800080; text-decoration-color: #800080\">╰─────────────────────────────────────────────────────────────────────────────────────────────────────────────────╯</span>\n",
       "</pre>\n"
      ]
     },
     "metadata": {},
     "output_type": "display_data"
    },
    {
     "data": {
      "text/plain": [
       "\u001B[34m╭─\u001B[0m\u001B[34m─────────────────────────────────────────────────\u001B[0m\u001B[34m Tool Input \u001B[0m\u001B[34m──────────────────────────────────────────────────\u001B[0m\u001B[34m─╮\u001B[0m\n",
       "\u001B[34m│\u001B[0m                                                                                                                 \u001B[34m│\u001B[0m\n",
       "\u001B[34m│\u001B[0m  \u001B[38;2;230;219;116;49m\"{\\\"search_query\\\": \\\"List of agentic AI applications\\\", \\\"search_type\\\": \\\"search\\\"}\"\u001B[0m                         \u001B[34m│\u001B[0m\n",
       "\u001B[34m│\u001B[0m                                                                                                                 \u001B[34m│\u001B[0m\n",
       "\u001B[34m╰─────────────────────────────────────────────────────────────────────────────────────────────────────────────────╯\u001B[0m\n"
      ],
      "text/html": [
       "<pre style=\"white-space:pre;overflow-x:auto;line-height:normal;font-family:Menlo,'DejaVu Sans Mono',consolas,'Courier New',monospace\"><span style=\"color: #000080; text-decoration-color: #000080\">╭────────────────────────────────────────────────── Tool Input ───────────────────────────────────────────────────╮</span>\n",
       "<span style=\"color: #000080; text-decoration-color: #000080\">│</span>                                                                                                                 <span style=\"color: #000080; text-decoration-color: #000080\">│</span>\n",
       "<span style=\"color: #000080; text-decoration-color: #000080\">│</span>  <span style=\"color: #e6db74; text-decoration-color: #e6db74; background-color: #ffffff\">\"{\\\"search_query\\\": \\\"List of agentic AI applications\\\", \\\"search_type\\\": \\\"search\\\"}\"</span>                         <span style=\"color: #000080; text-decoration-color: #000080\">│</span>\n",
       "<span style=\"color: #000080; text-decoration-color: #000080\">│</span>                                                                                                                 <span style=\"color: #000080; text-decoration-color: #000080\">│</span>\n",
       "<span style=\"color: #000080; text-decoration-color: #000080\">╰─────────────────────────────────────────────────────────────────────────────────────────────────────────────────╯</span>\n",
       "</pre>\n"
      ]
     },
     "metadata": {},
     "output_type": "display_data"
    },
    {
     "data": {
      "text/plain": [
       "\u001B[32m╭─\u001B[0m\u001B[32m─────────────────────────────────────────────────\u001B[0m\u001B[32m Tool Output \u001B[0m\u001B[32m─────────────────────────────────────────────────\u001B[0m\u001B[32m─╮\u001B[0m\n",
       "\u001B[32m│\u001B[0m                                                                                                                 \u001B[32m│\u001B[0m\n",
       "\u001B[32m│\u001B[0m  \u001B[92m{'searchParameters': {'q': 'List of agentic AI applications', 'type': 'search', 'num': 10, 'engine': \u001B[0m          \u001B[32m│\u001B[0m\n",
       "\u001B[32m│\u001B[0m  \u001B[92m'google'}, 'organic': [{'title': 'The 10 Hottest Agentic AI Tools And Agents Of 2025 (So Far)', 'link': \u001B[0m       \u001B[32m│\u001B[0m\n",
       "\u001B[32m│\u001B[0m  \u001B[92m'https://www.crn.com/news/ai/2025/10-hottest-agentic-ai-tools-and-agents-of-2025-so-far', 'snippet': 'Here \u001B[0m    \u001B[32m│\u001B[0m\n",
       "\u001B[32m│\u001B[0m  \u001B[92mare 10 of the hottest agentic AI tools and agents launched in 2025 from the likes of AWS, Databricks, \u001B[0m         \u001B[32m│\u001B[0m\n",
       "\u001B[32m│\u001B[0m  \u001B[92mDataiku, Google Cloud, GitHut, IBM, Salesforce, ...', 'position': 1}, {'title': '6 Agentic AI Examples and \u001B[0m    \u001B[32m│\u001B[0m\n",
       "\u001B[32m│\u001B[0m  \u001B[92mUse Cases Transforming ...', 'link': \u001B[0m                                                                          \u001B[32m│\u001B[0m\n",
       "\u001B[32m│\u001B[0m  \u001B[92m'https://www.moveworks.com/us/en/resources/blog/agentic-ai-examples-use-cases', 'snippet': 'Agentic AI in IT \u001B[0m  \u001B[32m│\u001B[0m\n",
       "\u001B[32m│\u001B[0m  \u001B[92m· VPN troubleshooting · Self service password reset · Software request · Printing assistance · Incident \u001B[0m       \u001B[32m│\u001B[0m\n",
       "\u001B[32m│\u001B[0m  \u001B[92msubmission ...', 'position': 2}, {'title': '35+ Agentic AI Tools to Watch in 2025', 'link': \u001B[0m                   \u001B[32m│\u001B[0m\n",
       "\u001B[32m│\u001B[0m  \u001B[92m'https://akka.io/blog/agentic-ai-tools', 'snippet': 'Explore top agentic AI tools transforming businesses \u001B[0m     \u001B[32m│\u001B[0m\n",
       "\u001B[32m│\u001B[0m  \u001B[92mwith autonomous systems that observe, evaluate, and act independently.', 'position': 3}, {'title': 'Agentic \u001B[0m   \u001B[32m│\u001B[0m\n",
       "\u001B[32m│\u001B[0m  \u001B[92mAI Examples: Real-World Use Cases for Modern ...', 'link': \u001B[0m                                                    \u001B[32m│\u001B[0m\n",
       "\u001B[32m│\u001B[0m  \u001B[92m'https://www.thoughtspot.com/data-trends/ai/agentic-ai-examples', 'snippet': 'Sales teams: Accelerating lead \u001B[0m  \u001B[32m│\u001B[0m\n",
       "\u001B[32m│\u001B[0m  \u001B[92mconversion · Security teams: Proactive threat detection · Development teams: Faster code delivery · Product \u001B[0m   \u001B[32m│\u001B[0m\n",
       "\u001B[32m│\u001B[0m  \u001B[92mteams: Smarter product ...', 'position': 4}, {'title': '10+ Agentic AI Trends and Examples', 'link': \u001B[0m          \u001B[32m│\u001B[0m\n",
       "\u001B[32m│\u001B[0m  \u001B[92m'https://research.aimultiple.com/agentic-ai-trends/', 'snippet': \"Autonomous vehicles (e.g., Waymo, Tesla \u001B[0m     \u001B[32m│\u001B[0m\n",
       "\u001B[32m│\u001B[0m  \u001B[92mFSD) · Warehouse robots (e.g., Amazon Robotics) · Healthcare diagnostic agents (e.g., Google DeepMind's ...\",\u001B[0m  \u001B[32m│\u001B[0m\n",
       "\u001B[32m│\u001B[0m  \u001B[92m'position': 5}, {'title': 'Top 13 Agentic AI Tools in 2025 and Their Key Features', 'link': \u001B[0m                   \u001B[32m│\u001B[0m\n",
       "\u001B[32m│\u001B[0m  \u001B[92m'https://www.lasso.security/blog/agentic-ai-tools', 'snippet': '13 Leading Agentic AI Tools in 2025 · 1. \u001B[0m      \u001B[32m│\u001B[0m\n",
       "\u001B[32m│\u001B[0m  \u001B[92mMicrosoft Copilot Studio · 2. CrewAI · 3. Adept AI · 4. UiPath Automation Platform · 5. Anthropic Claude · \u001B[0m    \u001B[32m│\u001B[0m\n",
       "\u001B[32m│\u001B[0m  \u001B[92m6.', 'position': 6}, {'...\u001B[0m                                                                                     \u001B[32m│\u001B[0m\n",
       "\u001B[32m│\u001B[0m                                                                                                                 \u001B[32m│\u001B[0m\n",
       "\u001B[32m╰─────────────────────────────────────────────────────────────────────────────────────────────────────────────────╯\u001B[0m\n"
      ],
      "text/html": [
       "<pre style=\"white-space:pre;overflow-x:auto;line-height:normal;font-family:Menlo,'DejaVu Sans Mono',consolas,'Courier New',monospace\"><span style=\"color: #008000; text-decoration-color: #008000\">╭────────────────────────────────────────────────── Tool Output ──────────────────────────────────────────────────╮</span>\n",
       "<span style=\"color: #008000; text-decoration-color: #008000\">│</span>                                                                                                                 <span style=\"color: #008000; text-decoration-color: #008000\">│</span>\n",
       "<span style=\"color: #008000; text-decoration-color: #008000\">│</span>  <span style=\"color: #00ff00; text-decoration-color: #00ff00\">{'searchParameters': {'q': 'List of agentic AI applications', 'type': 'search', 'num': 10, 'engine': </span>          <span style=\"color: #008000; text-decoration-color: #008000\">│</span>\n",
       "<span style=\"color: #008000; text-decoration-color: #008000\">│</span>  <span style=\"color: #00ff00; text-decoration-color: #00ff00\">'google'}, 'organic': [{'title': 'The 10 Hottest Agentic AI Tools And Agents Of 2025 (So Far)', 'link': </span>       <span style=\"color: #008000; text-decoration-color: #008000\">│</span>\n",
       "<span style=\"color: #008000; text-decoration-color: #008000\">│</span>  <span style=\"color: #00ff00; text-decoration-color: #00ff00\">'https://www.crn.com/news/ai/2025/10-hottest-agentic-ai-tools-and-agents-of-2025-so-far', 'snippet': 'Here </span>    <span style=\"color: #008000; text-decoration-color: #008000\">│</span>\n",
       "<span style=\"color: #008000; text-decoration-color: #008000\">│</span>  <span style=\"color: #00ff00; text-decoration-color: #00ff00\">are 10 of the hottest agentic AI tools and agents launched in 2025 from the likes of AWS, Databricks, </span>         <span style=\"color: #008000; text-decoration-color: #008000\">│</span>\n",
       "<span style=\"color: #008000; text-decoration-color: #008000\">│</span>  <span style=\"color: #00ff00; text-decoration-color: #00ff00\">Dataiku, Google Cloud, GitHut, IBM, Salesforce, ...', 'position': 1}, {'title': '6 Agentic AI Examples and </span>    <span style=\"color: #008000; text-decoration-color: #008000\">│</span>\n",
       "<span style=\"color: #008000; text-decoration-color: #008000\">│</span>  <span style=\"color: #00ff00; text-decoration-color: #00ff00\">Use Cases Transforming ...', 'link': </span>                                                                          <span style=\"color: #008000; text-decoration-color: #008000\">│</span>\n",
       "<span style=\"color: #008000; text-decoration-color: #008000\">│</span>  <span style=\"color: #00ff00; text-decoration-color: #00ff00\">'https://www.moveworks.com/us/en/resources/blog/agentic-ai-examples-use-cases', 'snippet': 'Agentic AI in IT </span>  <span style=\"color: #008000; text-decoration-color: #008000\">│</span>\n",
       "<span style=\"color: #008000; text-decoration-color: #008000\">│</span>  <span style=\"color: #00ff00; text-decoration-color: #00ff00\">· VPN troubleshooting · Self service password reset · Software request · Printing assistance · Incident </span>       <span style=\"color: #008000; text-decoration-color: #008000\">│</span>\n",
       "<span style=\"color: #008000; text-decoration-color: #008000\">│</span>  <span style=\"color: #00ff00; text-decoration-color: #00ff00\">submission ...', 'position': 2}, {'title': '35+ Agentic AI Tools to Watch in 2025', 'link': </span>                   <span style=\"color: #008000; text-decoration-color: #008000\">│</span>\n",
       "<span style=\"color: #008000; text-decoration-color: #008000\">│</span>  <span style=\"color: #00ff00; text-decoration-color: #00ff00\">'https://akka.io/blog/agentic-ai-tools', 'snippet': 'Explore top agentic AI tools transforming businesses </span>     <span style=\"color: #008000; text-decoration-color: #008000\">│</span>\n",
       "<span style=\"color: #008000; text-decoration-color: #008000\">│</span>  <span style=\"color: #00ff00; text-decoration-color: #00ff00\">with autonomous systems that observe, evaluate, and act independently.', 'position': 3}, {'title': 'Agentic </span>   <span style=\"color: #008000; text-decoration-color: #008000\">│</span>\n",
       "<span style=\"color: #008000; text-decoration-color: #008000\">│</span>  <span style=\"color: #00ff00; text-decoration-color: #00ff00\">AI Examples: Real-World Use Cases for Modern ...', 'link': </span>                                                    <span style=\"color: #008000; text-decoration-color: #008000\">│</span>\n",
       "<span style=\"color: #008000; text-decoration-color: #008000\">│</span>  <span style=\"color: #00ff00; text-decoration-color: #00ff00\">'https://www.thoughtspot.com/data-trends/ai/agentic-ai-examples', 'snippet': 'Sales teams: Accelerating lead </span>  <span style=\"color: #008000; text-decoration-color: #008000\">│</span>\n",
       "<span style=\"color: #008000; text-decoration-color: #008000\">│</span>  <span style=\"color: #00ff00; text-decoration-color: #00ff00\">conversion · Security teams: Proactive threat detection · Development teams: Faster code delivery · Product </span>   <span style=\"color: #008000; text-decoration-color: #008000\">│</span>\n",
       "<span style=\"color: #008000; text-decoration-color: #008000\">│</span>  <span style=\"color: #00ff00; text-decoration-color: #00ff00\">teams: Smarter product ...', 'position': 4}, {'title': '10+ Agentic AI Trends and Examples', 'link': </span>          <span style=\"color: #008000; text-decoration-color: #008000\">│</span>\n",
       "<span style=\"color: #008000; text-decoration-color: #008000\">│</span>  <span style=\"color: #00ff00; text-decoration-color: #00ff00\">'https://research.aimultiple.com/agentic-ai-trends/', 'snippet': \"Autonomous vehicles (e.g., Waymo, Tesla </span>     <span style=\"color: #008000; text-decoration-color: #008000\">│</span>\n",
       "<span style=\"color: #008000; text-decoration-color: #008000\">│</span>  <span style=\"color: #00ff00; text-decoration-color: #00ff00\">FSD) · Warehouse robots (e.g., Amazon Robotics) · Healthcare diagnostic agents (e.g., Google DeepMind's ...\",</span>  <span style=\"color: #008000; text-decoration-color: #008000\">│</span>\n",
       "<span style=\"color: #008000; text-decoration-color: #008000\">│</span>  <span style=\"color: #00ff00; text-decoration-color: #00ff00\">'position': 5}, {'title': 'Top 13 Agentic AI Tools in 2025 and Their Key Features', 'link': </span>                   <span style=\"color: #008000; text-decoration-color: #008000\">│</span>\n",
       "<span style=\"color: #008000; text-decoration-color: #008000\">│</span>  <span style=\"color: #00ff00; text-decoration-color: #00ff00\">'https://www.lasso.security/blog/agentic-ai-tools', 'snippet': '13 Leading Agentic AI Tools in 2025 · 1. </span>      <span style=\"color: #008000; text-decoration-color: #008000\">│</span>\n",
       "<span style=\"color: #008000; text-decoration-color: #008000\">│</span>  <span style=\"color: #00ff00; text-decoration-color: #00ff00\">Microsoft Copilot Studio · 2. CrewAI · 3. Adept AI · 4. UiPath Automation Platform · 5. Anthropic Claude · </span>    <span style=\"color: #008000; text-decoration-color: #008000\">│</span>\n",
       "<span style=\"color: #008000; text-decoration-color: #008000\">│</span>  <span style=\"color: #00ff00; text-decoration-color: #00ff00\">6.', 'position': 6}, {'...</span>                                                                                     <span style=\"color: #008000; text-decoration-color: #008000\">│</span>\n",
       "<span style=\"color: #008000; text-decoration-color: #008000\">│</span>                                                                                                                 <span style=\"color: #008000; text-decoration-color: #008000\">│</span>\n",
       "<span style=\"color: #008000; text-decoration-color: #008000\">╰─────────────────────────────────────────────────────────────────────────────────────────────────────────────────╯</span>\n",
       "</pre>\n"
      ]
     },
     "metadata": {},
     "output_type": "display_data"
    },
    {
     "data": {
      "text/plain": [
       "\n"
      ],
      "text/html": [
       "<pre style=\"white-space:pre;overflow-x:auto;line-height:normal;font-family:Menlo,'DejaVu Sans Mono',consolas,'Courier New',monospace\">\n",
       "</pre>\n"
      ]
     },
     "metadata": {},
     "output_type": "display_data"
    },
    {
     "data": {
      "text/plain": [],
      "text/html": [
       "<pre style=\"white-space:pre;overflow-x:auto;line-height:normal;font-family:Menlo,'DejaVu Sans Mono',consolas,'Courier New',monospace\"></pre>\n"
      ]
     },
     "metadata": {},
     "output_type": "display_data"
    },
    {
     "data": {
      "text/plain": [
       "\u001B[31m╭─\u001B[0m\u001B[31m──────────────────────────────────────────────────\u001B[0m\u001B[31m LLM Error \u001B[0m\u001B[31m──────────────────────────────────────────────────\u001B[0m\u001B[31m─╮\u001B[0m\n",
       "\u001B[31m│\u001B[0m                                                                                                                 \u001B[31m│\u001B[0m\n",
       "\u001B[31m│\u001B[0m  \u001B[1;31m❌ LLM Call Failed\u001B[0m                                                                                             \u001B[31m│\u001B[0m\n",
       "\u001B[31m│\u001B[0m  \u001B[37mError: \u001B[0m\u001B[31mlitellm.RateLimitError: RateLimitError: GroqException - {\"error\":{\"message\":\"Rate limit reached for \u001B[0m    \u001B[31m│\u001B[0m\n",
       "\u001B[31m│\u001B[0m  \u001B[31mmodel `llama-3.1-8b-instant` in organization `org_01k47wrawaf4t9dfgkax7anx80` service tier `on_demand` on \u001B[0m     \u001B[31m│\u001B[0m\n",
       "\u001B[31m│\u001B[0m  \u001B[31mtokens per minute (TPM): Limit 6000, Used 6265, Requested 2624. Please try again in 28.896s. Need more \u001B[0m        \u001B[31m│\u001B[0m\n",
       "\u001B[31m│\u001B[0m  \u001B[31mtokens? Upgrade to Dev Tier today at \u001B[0m                                                                          \u001B[31m│\u001B[0m\n",
       "\u001B[31m│\u001B[0m  \u001B[31mhttps://console.groq.com/settings/billing\",\"type\":\"tokens\",\"code\":\"rate_limit_exceeded\"}}\u001B[0m                      \u001B[31m│\u001B[0m\n",
       "\u001B[31m│\u001B[0m                                                                                                                 \u001B[31m│\u001B[0m\n",
       "\u001B[31m│\u001B[0m                                                                                                                 \u001B[31m│\u001B[0m\n",
       "\u001B[31m╰─────────────────────────────────────────────────────────────────────────────────────────────────────────────────╯\u001B[0m\n"
      ],
      "text/html": [
       "<pre style=\"white-space:pre;overflow-x:auto;line-height:normal;font-family:Menlo,'DejaVu Sans Mono',consolas,'Courier New',monospace\"><span style=\"color: #800000; text-decoration-color: #800000\">╭─────────────────────────────────────────────────── LLM Error ───────────────────────────────────────────────────╮</span>\n",
       "<span style=\"color: #800000; text-decoration-color: #800000\">│</span>                                                                                                                 <span style=\"color: #800000; text-decoration-color: #800000\">│</span>\n",
       "<span style=\"color: #800000; text-decoration-color: #800000\">│</span>  <span style=\"color: #800000; text-decoration-color: #800000; font-weight: bold\">❌ LLM Call Failed</span>                                                                                             <span style=\"color: #800000; text-decoration-color: #800000\">│</span>\n",
       "<span style=\"color: #800000; text-decoration-color: #800000\">│</span>  <span style=\"color: #c0c0c0; text-decoration-color: #c0c0c0\">Error: </span><span style=\"color: #800000; text-decoration-color: #800000\">litellm.RateLimitError: RateLimitError: GroqException - {\"error\":{\"message\":\"Rate limit reached for </span>    <span style=\"color: #800000; text-decoration-color: #800000\">│</span>\n",
       "<span style=\"color: #800000; text-decoration-color: #800000\">│</span>  <span style=\"color: #800000; text-decoration-color: #800000\">model `llama-3.1-8b-instant` in organization `org_01k47wrawaf4t9dfgkax7anx80` service tier `on_demand` on </span>     <span style=\"color: #800000; text-decoration-color: #800000\">│</span>\n",
       "<span style=\"color: #800000; text-decoration-color: #800000\">│</span>  <span style=\"color: #800000; text-decoration-color: #800000\">tokens per minute (TPM): Limit 6000, Used 6265, Requested 2624. Please try again in 28.896s. Need more </span>        <span style=\"color: #800000; text-decoration-color: #800000\">│</span>\n",
       "<span style=\"color: #800000; text-decoration-color: #800000\">│</span>  <span style=\"color: #800000; text-decoration-color: #800000\">tokens? Upgrade to Dev Tier today at </span>                                                                          <span style=\"color: #800000; text-decoration-color: #800000\">│</span>\n",
       "<span style=\"color: #800000; text-decoration-color: #800000\">│</span>  <span style=\"color: #800000; text-decoration-color: #800000\">https://console.groq.com/settings/billing\",\"type\":\"tokens\",\"code\":\"rate_limit_exceeded\"}}</span>                      <span style=\"color: #800000; text-decoration-color: #800000\">│</span>\n",
       "<span style=\"color: #800000; text-decoration-color: #800000\">│</span>                                                                                                                 <span style=\"color: #800000; text-decoration-color: #800000\">│</span>\n",
       "<span style=\"color: #800000; text-decoration-color: #800000\">│</span>                                                                                                                 <span style=\"color: #800000; text-decoration-color: #800000\">│</span>\n",
       "<span style=\"color: #800000; text-decoration-color: #800000\">╰─────────────────────────────────────────────────────────────────────────────────────────────────────────────────╯</span>\n",
       "</pre>\n"
      ]
     },
     "metadata": {},
     "output_type": "display_data"
    },
    {
     "data": {
      "text/plain": [
       "\n"
      ],
      "text/html": [
       "<pre style=\"white-space:pre;overflow-x:auto;line-height:normal;font-family:Menlo,'DejaVu Sans Mono',consolas,'Courier New',monospace\">\n",
       "</pre>\n"
      ]
     },
     "metadata": {},
     "output_type": "display_data"
    },
    {
     "data": {
      "text/plain": [],
      "text/html": [
       "<pre style=\"white-space:pre;overflow-x:auto;line-height:normal;font-family:Menlo,'DejaVu Sans Mono',consolas,'Courier New',monospace\"></pre>\n"
      ]
     },
     "metadata": {},
     "output_type": "display_data"
    },
    {
     "data": {
      "text/plain": [
       "\u001B[31m╭─\u001B[0m\u001B[31m────────────────────────────────────────────────\u001B[0m\u001B[31m Task Failure \u001B[0m\u001B[31m─────────────────────────────────────────────────\u001B[0m\u001B[31m─╮\u001B[0m\n",
       "\u001B[31m│\u001B[0m                                                                                                                 \u001B[31m│\u001B[0m\n",
       "\u001B[31m│\u001B[0m  \u001B[1;31mTask Failed\u001B[0m                                                                                                    \u001B[31m│\u001B[0m\n",
       "\u001B[31m│\u001B[0m  \u001B[37mName: \u001B[0m\u001B[31mc450bb08-f63b-41e0-89ab-956342f47cc4\u001B[0m                                                                     \u001B[31m│\u001B[0m\n",
       "\u001B[31m│\u001B[0m  \u001B[37mAgent: \u001B[0m\u001B[31mmarket researcher\u001B[0m                                                                                       \u001B[31m│\u001B[0m\n",
       "\u001B[31m│\u001B[0m  \u001B[37mTool Args: \u001B[0m                                                                                                    \u001B[31m│\u001B[0m\n",
       "\u001B[31m│\u001B[0m                                                                                                                 \u001B[31m│\u001B[0m\n",
       "\u001B[31m│\u001B[0m                                                                                                                 \u001B[31m│\u001B[0m\n",
       "\u001B[31m╰─────────────────────────────────────────────────────────────────────────────────────────────────────────────────╯\u001B[0m\n"
      ],
      "text/html": [
       "<pre style=\"white-space:pre;overflow-x:auto;line-height:normal;font-family:Menlo,'DejaVu Sans Mono',consolas,'Courier New',monospace\"><span style=\"color: #800000; text-decoration-color: #800000\">╭───────────────────────────────────────────────── Task Failure ──────────────────────────────────────────────────╮</span>\n",
       "<span style=\"color: #800000; text-decoration-color: #800000\">│</span>                                                                                                                 <span style=\"color: #800000; text-decoration-color: #800000\">│</span>\n",
       "<span style=\"color: #800000; text-decoration-color: #800000\">│</span>  <span style=\"color: #800000; text-decoration-color: #800000; font-weight: bold\">Task Failed</span>                                                                                                    <span style=\"color: #800000; text-decoration-color: #800000\">│</span>\n",
       "<span style=\"color: #800000; text-decoration-color: #800000\">│</span>  <span style=\"color: #c0c0c0; text-decoration-color: #c0c0c0\">Name: </span><span style=\"color: #800000; text-decoration-color: #800000\">c450bb08-f63b-41e0-89ab-956342f47cc4</span>                                                                     <span style=\"color: #800000; text-decoration-color: #800000\">│</span>\n",
       "<span style=\"color: #800000; text-decoration-color: #800000\">│</span>  <span style=\"color: #c0c0c0; text-decoration-color: #c0c0c0\">Agent: </span><span style=\"color: #800000; text-decoration-color: #800000\">market researcher</span>                                                                                       <span style=\"color: #800000; text-decoration-color: #800000\">│</span>\n",
       "<span style=\"color: #800000; text-decoration-color: #800000\">│</span>  <span style=\"color: #c0c0c0; text-decoration-color: #c0c0c0\">Tool Args: </span>                                                                                                    <span style=\"color: #800000; text-decoration-color: #800000\">│</span>\n",
       "<span style=\"color: #800000; text-decoration-color: #800000\">│</span>                                                                                                                 <span style=\"color: #800000; text-decoration-color: #800000\">│</span>\n",
       "<span style=\"color: #800000; text-decoration-color: #800000\">│</span>                                                                                                                 <span style=\"color: #800000; text-decoration-color: #800000\">│</span>\n",
       "<span style=\"color: #800000; text-decoration-color: #800000\">╰─────────────────────────────────────────────────────────────────────────────────────────────────────────────────╯</span>\n",
       "</pre>\n"
      ]
     },
     "metadata": {},
     "output_type": "display_data"
    },
    {
     "data": {
      "text/plain": [
       "\n"
      ],
      "text/html": [
       "<pre style=\"white-space:pre;overflow-x:auto;line-height:normal;font-family:Menlo,'DejaVu Sans Mono',consolas,'Courier New',monospace\">\n",
       "</pre>\n"
      ]
     },
     "metadata": {},
     "output_type": "display_data"
    },
    {
     "data": {
      "text/plain": [
       "\u001B[31m╭─\u001B[0m\u001B[31m────────────────────────────────────────────────\u001B[0m\u001B[31m Crew Failure \u001B[0m\u001B[31m─────────────────────────────────────────────────\u001B[0m\u001B[31m─╮\u001B[0m\n",
       "\u001B[31m│\u001B[0m                                                                                                                 \u001B[31m│\u001B[0m\n",
       "\u001B[31m│\u001B[0m  \u001B[1;31mCrew Execution Failed\u001B[0m                                                                                          \u001B[31m│\u001B[0m\n",
       "\u001B[31m│\u001B[0m  \u001B[37mName: \u001B[0m\u001B[31mcrew\u001B[0m                                                                                                     \u001B[31m│\u001B[0m\n",
       "\u001B[31m│\u001B[0m  \u001B[37mID: \u001B[0m\u001B[31me736b435-0947-48cc-aaa0-6d30de2f4614\u001B[0m                                                                       \u001B[31m│\u001B[0m\n",
       "\u001B[31m│\u001B[0m  \u001B[37mTool Args: \u001B[0m                                                                                                    \u001B[31m│\u001B[0m\n",
       "\u001B[31m│\u001B[0m  \u001B[37mFinal Output: \u001B[0m                                                                                                 \u001B[31m│\u001B[0m\n",
       "\u001B[31m│\u001B[0m                                                                                                                 \u001B[31m│\u001B[0m\n",
       "\u001B[31m│\u001B[0m                                                                                                                 \u001B[31m│\u001B[0m\n",
       "\u001B[31m╰─────────────────────────────────────────────────────────────────────────────────────────────────────────────────╯\u001B[0m\n"
      ],
      "text/html": [
       "<pre style=\"white-space:pre;overflow-x:auto;line-height:normal;font-family:Menlo,'DejaVu Sans Mono',consolas,'Courier New',monospace\"><span style=\"color: #800000; text-decoration-color: #800000\">╭───────────────────────────────────────────────── Crew Failure ──────────────────────────────────────────────────╮</span>\n",
       "<span style=\"color: #800000; text-decoration-color: #800000\">│</span>                                                                                                                 <span style=\"color: #800000; text-decoration-color: #800000\">│</span>\n",
       "<span style=\"color: #800000; text-decoration-color: #800000\">│</span>  <span style=\"color: #800000; text-decoration-color: #800000; font-weight: bold\">Crew Execution Failed</span>                                                                                          <span style=\"color: #800000; text-decoration-color: #800000\">│</span>\n",
       "<span style=\"color: #800000; text-decoration-color: #800000\">│</span>  <span style=\"color: #c0c0c0; text-decoration-color: #c0c0c0\">Name: </span><span style=\"color: #800000; text-decoration-color: #800000\">crew</span>                                                                                                     <span style=\"color: #800000; text-decoration-color: #800000\">│</span>\n",
       "<span style=\"color: #800000; text-decoration-color: #800000\">│</span>  <span style=\"color: #c0c0c0; text-decoration-color: #c0c0c0\">ID: </span><span style=\"color: #800000; text-decoration-color: #800000\">e736b435-0947-48cc-aaa0-6d30de2f4614</span>                                                                       <span style=\"color: #800000; text-decoration-color: #800000\">│</span>\n",
       "<span style=\"color: #800000; text-decoration-color: #800000\">│</span>  <span style=\"color: #c0c0c0; text-decoration-color: #c0c0c0\">Tool Args: </span>                                                                                                    <span style=\"color: #800000; text-decoration-color: #800000\">│</span>\n",
       "<span style=\"color: #800000; text-decoration-color: #800000\">│</span>  <span style=\"color: #c0c0c0; text-decoration-color: #c0c0c0\">Final Output: </span>                                                                                                 <span style=\"color: #800000; text-decoration-color: #800000\">│</span>\n",
       "<span style=\"color: #800000; text-decoration-color: #800000\">│</span>                                                                                                                 <span style=\"color: #800000; text-decoration-color: #800000\">│</span>\n",
       "<span style=\"color: #800000; text-decoration-color: #800000\">│</span>                                                                                                                 <span style=\"color: #800000; text-decoration-color: #800000\">│</span>\n",
       "<span style=\"color: #800000; text-decoration-color: #800000\">╰─────────────────────────────────────────────────────────────────────────────────────────────────────────────────╯</span>\n",
       "</pre>\n"
      ]
     },
     "metadata": {},
     "output_type": "display_data"
    },
    {
     "data": {
      "text/plain": [
       "\n"
      ],
      "text/html": [
       "<pre style=\"white-space:pre;overflow-x:auto;line-height:normal;font-family:Menlo,'DejaVu Sans Mono',consolas,'Courier New',monospace\">\n",
       "</pre>\n"
      ]
     },
     "metadata": {},
     "output_type": "display_data"
    },
    {
     "ename": "RateLimitError",
     "evalue": "litellm.RateLimitError: RateLimitError: GroqException - {\"error\":{\"message\":\"Rate limit reached for model `llama-3.1-8b-instant` in organization `org_01k47wrawaf4t9dfgkax7anx80` service tier `on_demand` on tokens per minute (TPM): Limit 6000, Used 6265, Requested 2624. Please try again in 28.896s. Need more tokens? Upgrade to Dev Tier today at https://console.groq.com/settings/billing\",\"type\":\"tokens\",\"code\":\"rate_limit_exceeded\"}}\n",
     "output_type": "error",
     "traceback": [
      "\u001B[31m---------------------------------------------------------------------------\u001B[39m",
      "\u001B[31mHTTPStatusError\u001B[39m                           Traceback (most recent call last)",
      "\u001B[36mFile \u001B[39m\u001B[32mE:\\PY_Workspace\\CrewAi-Introduction\\.venv\\Lib\\site-packages\\litellm\\llms\\custom_httpx\\llm_http_handler.py:174\u001B[39m, in \u001B[36mBaseLLMHTTPHandler._make_common_sync_call\u001B[39m\u001B[34m(self, sync_httpx_client, provider_config, api_base, headers, data, timeout, litellm_params, logging_obj, stream, signed_json_body)\u001B[39m\n\u001B[32m    173\u001B[39m \u001B[38;5;28;01mtry\u001B[39;00m:\n\u001B[32m--> \u001B[39m\u001B[32m174\u001B[39m     response = \u001B[43msync_httpx_client\u001B[49m\u001B[43m.\u001B[49m\u001B[43mpost\u001B[49m\u001B[43m(\u001B[49m\n\u001B[32m    175\u001B[39m \u001B[43m        \u001B[49m\u001B[43murl\u001B[49m\u001B[43m=\u001B[49m\u001B[43mapi_base\u001B[49m\u001B[43m,\u001B[49m\n\u001B[32m    176\u001B[39m \u001B[43m        \u001B[49m\u001B[43mheaders\u001B[49m\u001B[43m=\u001B[49m\u001B[43mheaders\u001B[49m\u001B[43m,\u001B[49m\n\u001B[32m    177\u001B[39m \u001B[43m        \u001B[49m\u001B[43mdata\u001B[49m\u001B[43m=\u001B[49m\u001B[43m(\u001B[49m\n\u001B[32m    178\u001B[39m \u001B[43m            \u001B[49m\u001B[43msigned_json_body\u001B[49m\n\u001B[32m    179\u001B[39m \u001B[43m            \u001B[49m\u001B[38;5;28;43;01mif\u001B[39;49;00m\u001B[43m \u001B[49m\u001B[43msigned_json_body\u001B[49m\u001B[43m \u001B[49m\u001B[38;5;129;43;01mis\u001B[39;49;00m\u001B[43m \u001B[49m\u001B[38;5;129;43;01mnot\u001B[39;49;00m\u001B[43m \u001B[49m\u001B[38;5;28;43;01mNone\u001B[39;49;00m\n\u001B[32m    180\u001B[39m \u001B[43m            \u001B[49m\u001B[38;5;28;43;01melse\u001B[39;49;00m\u001B[43m \u001B[49m\u001B[43mjson\u001B[49m\u001B[43m.\u001B[49m\u001B[43mdumps\u001B[49m\u001B[43m(\u001B[49m\u001B[43mdata\u001B[49m\u001B[43m)\u001B[49m\n\u001B[32m    181\u001B[39m \u001B[43m        \u001B[49m\u001B[43m)\u001B[49m\u001B[43m,\u001B[49m\n\u001B[32m    182\u001B[39m \u001B[43m        \u001B[49m\u001B[43mtimeout\u001B[49m\u001B[43m=\u001B[49m\u001B[43mtimeout\u001B[49m\u001B[43m,\u001B[49m\n\u001B[32m    183\u001B[39m \u001B[43m        \u001B[49m\u001B[43mstream\u001B[49m\u001B[43m=\u001B[49m\u001B[43mstream\u001B[49m\u001B[43m,\u001B[49m\n\u001B[32m    184\u001B[39m \u001B[43m        \u001B[49m\u001B[43mlogging_obj\u001B[49m\u001B[43m=\u001B[49m\u001B[43mlogging_obj\u001B[49m\u001B[43m,\u001B[49m\n\u001B[32m    185\u001B[39m \u001B[43m    \u001B[49m\u001B[43m)\u001B[49m\n\u001B[32m    186\u001B[39m \u001B[38;5;28;01mexcept\u001B[39;00m httpx.HTTPStatusError \u001B[38;5;28;01mas\u001B[39;00m e:\n",
      "\u001B[36mFile \u001B[39m\u001B[32mE:\\PY_Workspace\\CrewAi-Introduction\\.venv\\Lib\\site-packages\\litellm\\llms\\custom_httpx\\http_handler.py:780\u001B[39m, in \u001B[36mHTTPHandler.post\u001B[39m\u001B[34m(self, url, data, json, params, headers, stream, timeout, files, content, logging_obj)\u001B[39m\n\u001B[32m    779\u001B[39m     \u001B[38;5;28msetattr\u001B[39m(e, \u001B[33m\"\u001B[39m\u001B[33mstatus_code\u001B[39m\u001B[33m\"\u001B[39m, e.response.status_code)\n\u001B[32m--> \u001B[39m\u001B[32m780\u001B[39m     \u001B[38;5;28;01mraise\u001B[39;00m e\n\u001B[32m    781\u001B[39m \u001B[38;5;28;01mexcept\u001B[39;00m \u001B[38;5;167;01mException\u001B[39;00m \u001B[38;5;28;01mas\u001B[39;00m e:\n",
      "\u001B[36mFile \u001B[39m\u001B[32mE:\\PY_Workspace\\CrewAi-Introduction\\.venv\\Lib\\site-packages\\litellm\\llms\\custom_httpx\\http_handler.py:762\u001B[39m, in \u001B[36mHTTPHandler.post\u001B[39m\u001B[34m(self, url, data, json, params, headers, stream, timeout, files, content, logging_obj)\u001B[39m\n\u001B[32m    761\u001B[39m response = \u001B[38;5;28mself\u001B[39m.client.send(req, stream=stream)\n\u001B[32m--> \u001B[39m\u001B[32m762\u001B[39m \u001B[43mresponse\u001B[49m\u001B[43m.\u001B[49m\u001B[43mraise_for_status\u001B[49m\u001B[43m(\u001B[49m\u001B[43m)\u001B[49m\n\u001B[32m    763\u001B[39m \u001B[38;5;28;01mreturn\u001B[39;00m response\n",
      "\u001B[36mFile \u001B[39m\u001B[32mE:\\PY_Workspace\\CrewAi-Introduction\\.venv\\Lib\\site-packages\\httpx\\_models.py:829\u001B[39m, in \u001B[36mResponse.raise_for_status\u001B[39m\u001B[34m(self)\u001B[39m\n\u001B[32m    828\u001B[39m message = message.format(\u001B[38;5;28mself\u001B[39m, error_type=error_type)\n\u001B[32m--> \u001B[39m\u001B[32m829\u001B[39m \u001B[38;5;28;01mraise\u001B[39;00m HTTPStatusError(message, request=request, response=\u001B[38;5;28mself\u001B[39m)\n",
      "\u001B[31mHTTPStatusError\u001B[39m: Client error '429 Too Many Requests' for url 'https://api.groq.com/openai/v1/chat/completions'\nFor more information check: https://developer.mozilla.org/en-US/docs/Web/HTTP/Status/429",
      "\nDuring handling of the above exception, another exception occurred:\n",
      "\u001B[31mOpenAIError\u001B[39m                               Traceback (most recent call last)",
      "\u001B[36mFile \u001B[39m\u001B[32mE:\\PY_Workspace\\CrewAi-Introduction\\.venv\\Lib\\site-packages\\litellm\\main.py:1824\u001B[39m, in \u001B[36mcompletion\u001B[39m\u001B[34m(model, messages, timeout, temperature, top_p, n, stream, stream_options, stop, max_completion_tokens, max_tokens, modalities, prediction, audio, presence_penalty, frequency_penalty, logit_bias, user, reasoning_effort, response_format, seed, tools, tool_choice, logprobs, top_logprobs, parallel_tool_calls, web_search_options, deployment_id, extra_headers, functions, function_call, base_url, api_version, api_key, model_list, thinking, **kwargs)\u001B[39m\n\u001B[32m   1822\u001B[39m             optional_params[k] = v\n\u001B[32m-> \u001B[39m\u001B[32m1824\u001B[39m     response = \u001B[43mbase_llm_http_handler\u001B[49m\u001B[43m.\u001B[49m\u001B[43mcompletion\u001B[49m\u001B[43m(\u001B[49m\n\u001B[32m   1825\u001B[39m \u001B[43m        \u001B[49m\u001B[43mmodel\u001B[49m\u001B[43m=\u001B[49m\u001B[43mmodel\u001B[49m\u001B[43m,\u001B[49m\n\u001B[32m   1826\u001B[39m \u001B[43m        \u001B[49m\u001B[43mstream\u001B[49m\u001B[43m=\u001B[49m\u001B[43mstream\u001B[49m\u001B[43m,\u001B[49m\n\u001B[32m   1827\u001B[39m \u001B[43m        \u001B[49m\u001B[43mmessages\u001B[49m\u001B[43m=\u001B[49m\u001B[43mmessages\u001B[49m\u001B[43m,\u001B[49m\n\u001B[32m   1828\u001B[39m \u001B[43m        \u001B[49m\u001B[43macompletion\u001B[49m\u001B[43m=\u001B[49m\u001B[43macompletion\u001B[49m\u001B[43m,\u001B[49m\n\u001B[32m   1829\u001B[39m \u001B[43m        \u001B[49m\u001B[43mapi_base\u001B[49m\u001B[43m=\u001B[49m\u001B[43mapi_base\u001B[49m\u001B[43m,\u001B[49m\n\u001B[32m   1830\u001B[39m \u001B[43m        \u001B[49m\u001B[43mmodel_response\u001B[49m\u001B[43m=\u001B[49m\u001B[43mmodel_response\u001B[49m\u001B[43m,\u001B[49m\n\u001B[32m   1831\u001B[39m \u001B[43m        \u001B[49m\u001B[43moptional_params\u001B[49m\u001B[43m=\u001B[49m\u001B[43moptional_params\u001B[49m\u001B[43m,\u001B[49m\n\u001B[32m   1832\u001B[39m \u001B[43m        \u001B[49m\u001B[43mlitellm_params\u001B[49m\u001B[43m=\u001B[49m\u001B[43mlitellm_params\u001B[49m\u001B[43m,\u001B[49m\n\u001B[32m   1833\u001B[39m \u001B[43m        \u001B[49m\u001B[43mcustom_llm_provider\u001B[49m\u001B[43m=\u001B[49m\u001B[43mcustom_llm_provider\u001B[49m\u001B[43m,\u001B[49m\n\u001B[32m   1834\u001B[39m \u001B[43m        \u001B[49m\u001B[43mtimeout\u001B[49m\u001B[43m=\u001B[49m\u001B[43mtimeout\u001B[49m\u001B[43m,\u001B[49m\n\u001B[32m   1835\u001B[39m \u001B[43m        \u001B[49m\u001B[43mheaders\u001B[49m\u001B[43m=\u001B[49m\u001B[43mheaders\u001B[49m\u001B[43m,\u001B[49m\n\u001B[32m   1836\u001B[39m \u001B[43m        \u001B[49m\u001B[43mencoding\u001B[49m\u001B[43m=\u001B[49m\u001B[43mencoding\u001B[49m\u001B[43m,\u001B[49m\n\u001B[32m   1837\u001B[39m \u001B[43m        \u001B[49m\u001B[43mapi_key\u001B[49m\u001B[43m=\u001B[49m\u001B[43mapi_key\u001B[49m\u001B[43m,\u001B[49m\n\u001B[32m   1838\u001B[39m \u001B[43m        \u001B[49m\u001B[43mlogging_obj\u001B[49m\u001B[43m=\u001B[49m\u001B[43mlogging\u001B[49m\u001B[43m,\u001B[49m\u001B[43m  \u001B[49m\u001B[38;5;66;43;03m# model call logging done inside the class as we make need to modify I/O to fit aleph alpha's requirements\u001B[39;49;00m\n\u001B[32m   1839\u001B[39m \u001B[43m        \u001B[49m\u001B[43mclient\u001B[49m\u001B[43m=\u001B[49m\u001B[43mclient\u001B[49m\u001B[43m,\u001B[49m\n\u001B[32m   1840\u001B[39m \u001B[43m    \u001B[49m\u001B[43m)\u001B[49m\n\u001B[32m   1841\u001B[39m \u001B[38;5;28;01melif\u001B[39;00m custom_llm_provider == \u001B[33m\"\u001B[39m\u001B[33maiohttp_openai\u001B[39m\u001B[33m\"\u001B[39m:\n\u001B[32m   1842\u001B[39m     \u001B[38;5;66;03m# NEW aiohttp provider for 10-100x higher RPS\u001B[39;00m\n",
      "\u001B[36mFile \u001B[39m\u001B[32mE:\\PY_Workspace\\CrewAi-Introduction\\.venv\\Lib\\site-packages\\litellm\\llms\\custom_httpx\\llm_http_handler.py:470\u001B[39m, in \u001B[36mBaseLLMHTTPHandler.completion\u001B[39m\u001B[34m(self, model, messages, api_base, custom_llm_provider, model_response, encoding, logging_obj, optional_params, timeout, litellm_params, acompletion, stream, fake_stream, api_key, headers, client, provider_config)\u001B[39m\n\u001B[32m    468\u001B[39m     sync_httpx_client = client\n\u001B[32m--> \u001B[39m\u001B[32m470\u001B[39m response = \u001B[38;5;28;43mself\u001B[39;49m\u001B[43m.\u001B[49m\u001B[43m_make_common_sync_call\u001B[49m\u001B[43m(\u001B[49m\n\u001B[32m    471\u001B[39m \u001B[43m    \u001B[49m\u001B[43msync_httpx_client\u001B[49m\u001B[43m=\u001B[49m\u001B[43msync_httpx_client\u001B[49m\u001B[43m,\u001B[49m\n\u001B[32m    472\u001B[39m \u001B[43m    \u001B[49m\u001B[43mprovider_config\u001B[49m\u001B[43m=\u001B[49m\u001B[43mprovider_config\u001B[49m\u001B[43m,\u001B[49m\n\u001B[32m    473\u001B[39m \u001B[43m    \u001B[49m\u001B[43mapi_base\u001B[49m\u001B[43m=\u001B[49m\u001B[43mapi_base\u001B[49m\u001B[43m,\u001B[49m\n\u001B[32m    474\u001B[39m \u001B[43m    \u001B[49m\u001B[43mheaders\u001B[49m\u001B[43m=\u001B[49m\u001B[43mheaders\u001B[49m\u001B[43m,\u001B[49m\n\u001B[32m    475\u001B[39m \u001B[43m    \u001B[49m\u001B[43mdata\u001B[49m\u001B[43m=\u001B[49m\u001B[43mdata\u001B[49m\u001B[43m,\u001B[49m\n\u001B[32m    476\u001B[39m \u001B[43m    \u001B[49m\u001B[43msigned_json_body\u001B[49m\u001B[43m=\u001B[49m\u001B[43msigned_json_body\u001B[49m\u001B[43m,\u001B[49m\n\u001B[32m    477\u001B[39m \u001B[43m    \u001B[49m\u001B[43mtimeout\u001B[49m\u001B[43m=\u001B[49m\u001B[43mtimeout\u001B[49m\u001B[43m,\u001B[49m\n\u001B[32m    478\u001B[39m \u001B[43m    \u001B[49m\u001B[43mlitellm_params\u001B[49m\u001B[43m=\u001B[49m\u001B[43mlitellm_params\u001B[49m\u001B[43m,\u001B[49m\n\u001B[32m    479\u001B[39m \u001B[43m    \u001B[49m\u001B[43mlogging_obj\u001B[49m\u001B[43m=\u001B[49m\u001B[43mlogging_obj\u001B[49m\u001B[43m,\u001B[49m\n\u001B[32m    480\u001B[39m \u001B[43m\u001B[49m\u001B[43m)\u001B[49m\n\u001B[32m    481\u001B[39m \u001B[38;5;28;01mreturn\u001B[39;00m provider_config.transform_response(\n\u001B[32m    482\u001B[39m     model=model,\n\u001B[32m    483\u001B[39m     raw_response=response,\n\u001B[32m   (...)\u001B[39m\u001B[32m    492\u001B[39m     json_mode=json_mode,\n\u001B[32m    493\u001B[39m )\n",
      "\u001B[36mFile \u001B[39m\u001B[32mE:\\PY_Workspace\\CrewAi-Introduction\\.venv\\Lib\\site-packages\\litellm\\llms\\custom_httpx\\llm_http_handler.py:199\u001B[39m, in \u001B[36mBaseLLMHTTPHandler._make_common_sync_call\u001B[39m\u001B[34m(self, sync_httpx_client, provider_config, api_base, headers, data, timeout, litellm_params, logging_obj, stream, signed_json_body)\u001B[39m\n\u001B[32m    198\u001B[39m     \u001B[38;5;28;01melse\u001B[39;00m:\n\u001B[32m--> \u001B[39m\u001B[32m199\u001B[39m         \u001B[38;5;28;01mraise\u001B[39;00m \u001B[38;5;28;43mself\u001B[39;49m\u001B[43m.\u001B[49m\u001B[43m_handle_error\u001B[49m\u001B[43m(\u001B[49m\u001B[43me\u001B[49m\u001B[43m=\u001B[49m\u001B[43me\u001B[49m\u001B[43m,\u001B[49m\u001B[43m \u001B[49m\u001B[43mprovider_config\u001B[49m\u001B[43m=\u001B[49m\u001B[43mprovider_config\u001B[49m\u001B[43m)\u001B[49m\n\u001B[32m    200\u001B[39m \u001B[38;5;28;01mexcept\u001B[39;00m \u001B[38;5;167;01mException\u001B[39;00m \u001B[38;5;28;01mas\u001B[39;00m e:\n",
      "\u001B[36mFile \u001B[39m\u001B[32mE:\\PY_Workspace\\CrewAi-Introduction\\.venv\\Lib\\site-packages\\litellm\\llms\\custom_httpx\\llm_http_handler.py:2409\u001B[39m, in \u001B[36mBaseLLMHTTPHandler._handle_error\u001B[39m\u001B[34m(self, e, provider_config)\u001B[39m\n\u001B[32m   2403\u001B[39m     \u001B[38;5;28;01mraise\u001B[39;00m BaseLLMException(\n\u001B[32m   2404\u001B[39m         status_code=status_code,\n\u001B[32m   2405\u001B[39m         message=error_text,\n\u001B[32m   2406\u001B[39m         headers=error_headers,\n\u001B[32m   2407\u001B[39m     )\n\u001B[32m-> \u001B[39m\u001B[32m2409\u001B[39m \u001B[38;5;28;01mraise\u001B[39;00m provider_config.get_error_class(\n\u001B[32m   2410\u001B[39m     error_message=error_text,\n\u001B[32m   2411\u001B[39m     status_code=status_code,\n\u001B[32m   2412\u001B[39m     headers=error_headers,\n\u001B[32m   2413\u001B[39m )\n",
      "\u001B[31mOpenAIError\u001B[39m: {\"error\":{\"message\":\"Rate limit reached for model `llama-3.1-8b-instant` in organization `org_01k47wrawaf4t9dfgkax7anx80` service tier `on_demand` on tokens per minute (TPM): Limit 6000, Used 6265, Requested 2624. Please try again in 28.896s. Need more tokens? Upgrade to Dev Tier today at https://console.groq.com/settings/billing\",\"type\":\"tokens\",\"code\":\"rate_limit_exceeded\"}}\n",
      "\nDuring handling of the above exception, another exception occurred:\n",
      "\u001B[31mRateLimitError\u001B[39m                            Traceback (most recent call last)",
      "\u001B[36mCell\u001B[39m\u001B[36m \u001B[39m\u001B[32mIn[7]\u001B[39m\u001B[32m, line 41\u001B[39m\n\u001B[32m     27\u001B[39m writer_task = Task(\n\u001B[32m     28\u001B[39m     description=\u001B[33m\"\u001B[39m\u001B[33mCreate an interesting and a professional article for linkedin on \u001B[39m\u001B[38;5;132;01m{topic}\u001B[39;00m\u001B[33m\"\u001B[39m,\n\u001B[32m     29\u001B[39m     expected_output=\u001B[33m\"\u001B[39m\u001B[33mAn optimised an interesting article for linkedin\u001B[39m\u001B[33m\"\u001B[39m,\n\u001B[32m     30\u001B[39m     agent=content_writer_agent,\n\u001B[32m     31\u001B[39m     context=[research_task]\n\u001B[32m     32\u001B[39m )\n\u001B[32m     34\u001B[39m marketing_crew = Crew(\n\u001B[32m     35\u001B[39m     agents=[market_research_agent,content_writer_agent],\n\u001B[32m     36\u001B[39m     tasks=[research_task,writer_task],\n\u001B[32m     37\u001B[39m     verbose=\u001B[38;5;28;01mTrue\u001B[39;00m\n\u001B[32m     38\u001B[39m )\n\u001B[32m---> \u001B[39m\u001B[32m41\u001B[39m result = \u001B[43mmarketing_crew\u001B[49m\u001B[43m.\u001B[49m\u001B[43mkickoff\u001B[49m\u001B[43m(\u001B[49m\u001B[43minputs\u001B[49m\u001B[43m=\u001B[49m\u001B[43m{\u001B[49m\u001B[33;43m\"\u001B[39;49m\u001B[33;43mtopic\u001B[39;49m\u001B[33;43m\"\u001B[39;49m\u001B[43m:\u001B[49m\u001B[33;43m\"\u001B[39;49m\u001B[33;43mAgentic Ai\u001B[39;49m\u001B[33;43m\"\u001B[39;49m\u001B[43m}\u001B[49m\u001B[43m)\u001B[49m\n\u001B[32m     42\u001B[39m \u001B[38;5;28mprint\u001B[39m(result)\n",
      "\u001B[36mFile \u001B[39m\u001B[32mE:\\PY_Workspace\\CrewAi-Introduction\\.venv\\Lib\\site-packages\\crewai\\crew.py:662\u001B[39m, in \u001B[36mCrew.kickoff\u001B[39m\u001B[34m(self, inputs)\u001B[39m\n\u001B[32m    659\u001B[39m     \u001B[38;5;28mself\u001B[39m._handle_crew_planning()\n\u001B[32m    661\u001B[39m \u001B[38;5;28;01mif\u001B[39;00m \u001B[38;5;28mself\u001B[39m.process == Process.sequential:\n\u001B[32m--> \u001B[39m\u001B[32m662\u001B[39m     result = \u001B[38;5;28;43mself\u001B[39;49m\u001B[43m.\u001B[49m\u001B[43m_run_sequential_process\u001B[49m\u001B[43m(\u001B[49m\u001B[43m)\u001B[49m\n\u001B[32m    663\u001B[39m \u001B[38;5;28;01melif\u001B[39;00m \u001B[38;5;28mself\u001B[39m.process == Process.hierarchical:\n\u001B[32m    664\u001B[39m     result = \u001B[38;5;28mself\u001B[39m._run_hierarchical_process()\n",
      "\u001B[36mFile \u001B[39m\u001B[32mE:\\PY_Workspace\\CrewAi-Introduction\\.venv\\Lib\\site-packages\\crewai\\crew.py:776\u001B[39m, in \u001B[36mCrew._run_sequential_process\u001B[39m\u001B[34m(self)\u001B[39m\n\u001B[32m    774\u001B[39m \u001B[38;5;28;01mdef\u001B[39;00m\u001B[38;5;250m \u001B[39m\u001B[34m_run_sequential_process\u001B[39m(\u001B[38;5;28mself\u001B[39m) -> CrewOutput:\n\u001B[32m    775\u001B[39m \u001B[38;5;250m    \u001B[39m\u001B[33;03m\"\"\"Executes tasks sequentially and returns the final output.\"\"\"\u001B[39;00m\n\u001B[32m--> \u001B[39m\u001B[32m776\u001B[39m     \u001B[38;5;28;01mreturn\u001B[39;00m \u001B[38;5;28;43mself\u001B[39;49m\u001B[43m.\u001B[49m\u001B[43m_execute_tasks\u001B[49m\u001B[43m(\u001B[49m\u001B[38;5;28;43mself\u001B[39;49m\u001B[43m.\u001B[49m\u001B[43mtasks\u001B[49m\u001B[43m)\u001B[49m\n",
      "\u001B[36mFile \u001B[39m\u001B[32mE:\\PY_Workspace\\CrewAi-Introduction\\.venv\\Lib\\site-packages\\crewai\\crew.py:879\u001B[39m, in \u001B[36mCrew._execute_tasks\u001B[39m\u001B[34m(self, tasks, start_index, was_replayed)\u001B[39m\n\u001B[32m    876\u001B[39m     futures.clear()\n\u001B[32m    878\u001B[39m context = \u001B[38;5;28mself\u001B[39m._get_context(task, task_outputs)\n\u001B[32m--> \u001B[39m\u001B[32m879\u001B[39m task_output = \u001B[43mtask\u001B[49m\u001B[43m.\u001B[49m\u001B[43mexecute_sync\u001B[49m\u001B[43m(\u001B[49m\n\u001B[32m    880\u001B[39m \u001B[43m    \u001B[49m\u001B[43magent\u001B[49m\u001B[43m=\u001B[49m\u001B[43magent_to_use\u001B[49m\u001B[43m,\u001B[49m\n\u001B[32m    881\u001B[39m \u001B[43m    \u001B[49m\u001B[43mcontext\u001B[49m\u001B[43m=\u001B[49m\u001B[43mcontext\u001B[49m\u001B[43m,\u001B[49m\n\u001B[32m    882\u001B[39m \u001B[43m    \u001B[49m\u001B[43mtools\u001B[49m\u001B[43m=\u001B[49m\u001B[43mcast\u001B[49m\u001B[43m(\u001B[49m\u001B[43mList\u001B[49m\u001B[43m[\u001B[49m\u001B[43mBaseTool\u001B[49m\u001B[43m]\u001B[49m\u001B[43m,\u001B[49m\u001B[43m \u001B[49m\u001B[43mtools_for_task\u001B[49m\u001B[43m)\u001B[49m\u001B[43m,\u001B[49m\n\u001B[32m    883\u001B[39m \u001B[43m\u001B[49m\u001B[43m)\u001B[49m\n\u001B[32m    884\u001B[39m task_outputs.append(task_output)\n\u001B[32m    885\u001B[39m \u001B[38;5;28mself\u001B[39m._process_task_result(task, task_output)\n",
      "\u001B[36mFile \u001B[39m\u001B[32mE:\\PY_Workspace\\CrewAi-Introduction\\.venv\\Lib\\site-packages\\crewai\\task.py:381\u001B[39m, in \u001B[36mTask.execute_sync\u001B[39m\u001B[34m(self, agent, context, tools)\u001B[39m\n\u001B[32m    374\u001B[39m \u001B[38;5;28;01mdef\u001B[39;00m\u001B[38;5;250m \u001B[39m\u001B[34mexecute_sync\u001B[39m(\n\u001B[32m    375\u001B[39m     \u001B[38;5;28mself\u001B[39m,\n\u001B[32m    376\u001B[39m     agent: Optional[BaseAgent] = \u001B[38;5;28;01mNone\u001B[39;00m,\n\u001B[32m    377\u001B[39m     context: Optional[\u001B[38;5;28mstr\u001B[39m] = \u001B[38;5;28;01mNone\u001B[39;00m,\n\u001B[32m    378\u001B[39m     tools: Optional[List[BaseTool]] = \u001B[38;5;28;01mNone\u001B[39;00m,\n\u001B[32m    379\u001B[39m ) -> TaskOutput:\n\u001B[32m    380\u001B[39m \u001B[38;5;250m    \u001B[39m\u001B[33;03m\"\"\"Execute the task synchronously.\"\"\"\u001B[39;00m\n\u001B[32m--> \u001B[39m\u001B[32m381\u001B[39m     \u001B[38;5;28;01mreturn\u001B[39;00m \u001B[38;5;28;43mself\u001B[39;49m\u001B[43m.\u001B[49m\u001B[43m_execute_core\u001B[49m\u001B[43m(\u001B[49m\u001B[43magent\u001B[49m\u001B[43m,\u001B[49m\u001B[43m \u001B[49m\u001B[43mcontext\u001B[49m\u001B[43m,\u001B[49m\u001B[43m \u001B[49m\u001B[43mtools\u001B[49m\u001B[43m)\u001B[49m\n",
      "\u001B[36mFile \u001B[39m\u001B[32mE:\\PY_Workspace\\CrewAi-Introduction\\.venv\\Lib\\site-packages\\crewai\\task.py:529\u001B[39m, in \u001B[36mTask._execute_core\u001B[39m\u001B[34m(self, agent, context, tools)\u001B[39m\n\u001B[32m    527\u001B[39m \u001B[38;5;28mself\u001B[39m.end_time = datetime.datetime.now()\n\u001B[32m    528\u001B[39m crewai_event_bus.emit(\u001B[38;5;28mself\u001B[39m, TaskFailedEvent(error=\u001B[38;5;28mstr\u001B[39m(e), task=\u001B[38;5;28mself\u001B[39m))\n\u001B[32m--> \u001B[39m\u001B[32m529\u001B[39m \u001B[38;5;28;01mraise\u001B[39;00m e\n",
      "\u001B[36mFile \u001B[39m\u001B[32mE:\\PY_Workspace\\CrewAi-Introduction\\.venv\\Lib\\site-packages\\crewai\\task.py:445\u001B[39m, in \u001B[36mTask._execute_core\u001B[39m\u001B[34m(self, agent, context, tools)\u001B[39m\n\u001B[32m    443\u001B[39m \u001B[38;5;28mself\u001B[39m.processed_by_agents.add(agent.role)\n\u001B[32m    444\u001B[39m crewai_event_bus.emit(\u001B[38;5;28mself\u001B[39m, TaskStartedEvent(context=context, task=\u001B[38;5;28mself\u001B[39m))\n\u001B[32m--> \u001B[39m\u001B[32m445\u001B[39m result = \u001B[43magent\u001B[49m\u001B[43m.\u001B[49m\u001B[43mexecute_task\u001B[49m\u001B[43m(\u001B[49m\n\u001B[32m    446\u001B[39m \u001B[43m    \u001B[49m\u001B[43mtask\u001B[49m\u001B[43m=\u001B[49m\u001B[38;5;28;43mself\u001B[39;49m\u001B[43m,\u001B[49m\n\u001B[32m    447\u001B[39m \u001B[43m    \u001B[49m\u001B[43mcontext\u001B[49m\u001B[43m=\u001B[49m\u001B[43mcontext\u001B[49m\u001B[43m,\u001B[49m\n\u001B[32m    448\u001B[39m \u001B[43m    \u001B[49m\u001B[43mtools\u001B[49m\u001B[43m=\u001B[49m\u001B[43mtools\u001B[49m\u001B[43m,\u001B[49m\n\u001B[32m    449\u001B[39m \u001B[43m\u001B[49m\u001B[43m)\u001B[49m\n\u001B[32m    451\u001B[39m pydantic_output, json_output = \u001B[38;5;28mself\u001B[39m._export_output(result)\n\u001B[32m    452\u001B[39m task_output = TaskOutput(\n\u001B[32m    453\u001B[39m     name=\u001B[38;5;28mself\u001B[39m.name \u001B[38;5;129;01mor\u001B[39;00m \u001B[38;5;28mself\u001B[39m.description,\n\u001B[32m    454\u001B[39m     description=\u001B[38;5;28mself\u001B[39m.description,\n\u001B[32m   (...)\u001B[39m\u001B[32m    460\u001B[39m     output_format=\u001B[38;5;28mself\u001B[39m._get_output_format(),\n\u001B[32m    461\u001B[39m )\n",
      "\u001B[36mFile \u001B[39m\u001B[32mE:\\PY_Workspace\\CrewAi-Introduction\\.venv\\Lib\\site-packages\\crewai\\agent.py:475\u001B[39m, in \u001B[36mAgent.execute_task\u001B[39m\u001B[34m(self, task, context, tools)\u001B[39m\n\u001B[32m    465\u001B[39m \u001B[38;5;28;01mif\u001B[39;00m e.\u001B[34m__class__\u001B[39m.\u001B[34m__module__\u001B[39m.startswith(\u001B[33m\"\u001B[39m\u001B[33mlitellm\u001B[39m\u001B[33m\"\u001B[39m):\n\u001B[32m    466\u001B[39m     \u001B[38;5;66;03m# Do not retry on litellm errors\u001B[39;00m\n\u001B[32m    467\u001B[39m     crewai_event_bus.emit(\n\u001B[32m    468\u001B[39m         \u001B[38;5;28mself\u001B[39m,\n\u001B[32m    469\u001B[39m         event=AgentExecutionErrorEvent(\n\u001B[32m   (...)\u001B[39m\u001B[32m    473\u001B[39m         ),\n\u001B[32m    474\u001B[39m     )\n\u001B[32m--> \u001B[39m\u001B[32m475\u001B[39m     \u001B[38;5;28;01mraise\u001B[39;00m e\n\u001B[32m    476\u001B[39m \u001B[38;5;28mself\u001B[39m._times_executed += \u001B[32m1\u001B[39m\n\u001B[32m    477\u001B[39m \u001B[38;5;28;01mif\u001B[39;00m \u001B[38;5;28mself\u001B[39m._times_executed > \u001B[38;5;28mself\u001B[39m.max_retry_limit:\n",
      "\u001B[36mFile \u001B[39m\u001B[32mE:\\PY_Workspace\\CrewAi-Introduction\\.venv\\Lib\\site-packages\\crewai\\agent.py:451\u001B[39m, in \u001B[36mAgent.execute_task\u001B[39m\u001B[34m(self, task, context, tools)\u001B[39m\n\u001B[32m    447\u001B[39m         result = \u001B[38;5;28mself\u001B[39m._execute_with_timeout(\n\u001B[32m    448\u001B[39m             task_prompt, task, \u001B[38;5;28mself\u001B[39m.max_execution_time\n\u001B[32m    449\u001B[39m         )\n\u001B[32m    450\u001B[39m     \u001B[38;5;28;01melse\u001B[39;00m:\n\u001B[32m--> \u001B[39m\u001B[32m451\u001B[39m         result = \u001B[38;5;28;43mself\u001B[39;49m\u001B[43m.\u001B[49m\u001B[43m_execute_without_timeout\u001B[49m\u001B[43m(\u001B[49m\u001B[43mtask_prompt\u001B[49m\u001B[43m,\u001B[49m\u001B[43m \u001B[49m\u001B[43mtask\u001B[49m\u001B[43m)\u001B[49m\n\u001B[32m    453\u001B[39m \u001B[38;5;28;01mexcept\u001B[39;00m \u001B[38;5;167;01mTimeoutError\u001B[39;00m \u001B[38;5;28;01mas\u001B[39;00m e:\n\u001B[32m    454\u001B[39m     \u001B[38;5;66;03m# Propagate TimeoutError without retry\u001B[39;00m\n\u001B[32m    455\u001B[39m     crewai_event_bus.emit(\n\u001B[32m    456\u001B[39m         \u001B[38;5;28mself\u001B[39m,\n\u001B[32m    457\u001B[39m         event=AgentExecutionErrorEvent(\n\u001B[32m   (...)\u001B[39m\u001B[32m    461\u001B[39m         ),\n\u001B[32m    462\u001B[39m     )\n",
      "\u001B[36mFile \u001B[39m\u001B[32mE:\\PY_Workspace\\CrewAi-Introduction\\.venv\\Lib\\site-packages\\crewai\\agent.py:547\u001B[39m, in \u001B[36mAgent._execute_without_timeout\u001B[39m\u001B[34m(self, task_prompt, task)\u001B[39m\n\u001B[32m    537\u001B[39m \u001B[38;5;28;01mdef\u001B[39;00m\u001B[38;5;250m \u001B[39m\u001B[34m_execute_without_timeout\u001B[39m(\u001B[38;5;28mself\u001B[39m, task_prompt: \u001B[38;5;28mstr\u001B[39m, task: Task) -> \u001B[38;5;28mstr\u001B[39m:\n\u001B[32m    538\u001B[39m \u001B[38;5;250m    \u001B[39m\u001B[33;03m\"\"\"Execute a task without a timeout.\u001B[39;00m\n\u001B[32m    539\u001B[39m \n\u001B[32m    540\u001B[39m \u001B[33;03m    Args:\u001B[39;00m\n\u001B[32m   (...)\u001B[39m\u001B[32m    545\u001B[39m \u001B[33;03m        The output of the agent.\u001B[39;00m\n\u001B[32m    546\u001B[39m \u001B[33;03m    \"\"\"\u001B[39;00m\n\u001B[32m--> \u001B[39m\u001B[32m547\u001B[39m     \u001B[38;5;28;01mreturn\u001B[39;00m \u001B[38;5;28;43mself\u001B[39;49m\u001B[43m.\u001B[49m\u001B[43magent_executor\u001B[49m\u001B[43m.\u001B[49m\u001B[43minvoke\u001B[49m\u001B[43m(\u001B[49m\n\u001B[32m    548\u001B[39m \u001B[43m        \u001B[49m\u001B[43m{\u001B[49m\n\u001B[32m    549\u001B[39m \u001B[43m            \u001B[49m\u001B[33;43m\"\u001B[39;49m\u001B[33;43minput\u001B[39;49m\u001B[33;43m\"\u001B[39;49m\u001B[43m:\u001B[49m\u001B[43m \u001B[49m\u001B[43mtask_prompt\u001B[49m\u001B[43m,\u001B[49m\n\u001B[32m    550\u001B[39m \u001B[43m            \u001B[49m\u001B[33;43m\"\u001B[39;49m\u001B[33;43mtool_names\u001B[39;49m\u001B[33;43m\"\u001B[39;49m\u001B[43m:\u001B[49m\u001B[43m \u001B[49m\u001B[38;5;28;43mself\u001B[39;49m\u001B[43m.\u001B[49m\u001B[43magent_executor\u001B[49m\u001B[43m.\u001B[49m\u001B[43mtools_names\u001B[49m\u001B[43m,\u001B[49m\n\u001B[32m    551\u001B[39m \u001B[43m            \u001B[49m\u001B[33;43m\"\u001B[39;49m\u001B[33;43mtools\u001B[39;49m\u001B[33;43m\"\u001B[39;49m\u001B[43m:\u001B[49m\u001B[43m \u001B[49m\u001B[38;5;28;43mself\u001B[39;49m\u001B[43m.\u001B[49m\u001B[43magent_executor\u001B[49m\u001B[43m.\u001B[49m\u001B[43mtools_description\u001B[49m\u001B[43m,\u001B[49m\n\u001B[32m    552\u001B[39m \u001B[43m            \u001B[49m\u001B[33;43m\"\u001B[39;49m\u001B[33;43mask_for_human_input\u001B[39;49m\u001B[33;43m\"\u001B[39;49m\u001B[43m:\u001B[49m\u001B[43m \u001B[49m\u001B[43mtask\u001B[49m\u001B[43m.\u001B[49m\u001B[43mhuman_input\u001B[49m\u001B[43m,\u001B[49m\n\u001B[32m    553\u001B[39m \u001B[43m        \u001B[49m\u001B[43m}\u001B[49m\n\u001B[32m    554\u001B[39m \u001B[43m    \u001B[49m\u001B[43m)\u001B[49m[\u001B[33m\"\u001B[39m\u001B[33moutput\u001B[39m\u001B[33m\"\u001B[39m]\n",
      "\u001B[36mFile \u001B[39m\u001B[32mE:\\PY_Workspace\\CrewAi-Introduction\\.venv\\Lib\\site-packages\\crewai\\agents\\crew_agent_executor.py:149\u001B[39m, in \u001B[36mCrewAgentExecutor.invoke\u001B[39m\u001B[34m(self, inputs)\u001B[39m\n\u001B[32m    146\u001B[39m \u001B[38;5;28mself\u001B[39m.ask_for_human_input = \u001B[38;5;28mbool\u001B[39m(inputs.get(\u001B[33m\"\u001B[39m\u001B[33mask_for_human_input\u001B[39m\u001B[33m\"\u001B[39m, \u001B[38;5;28;01mFalse\u001B[39;00m))\n\u001B[32m    148\u001B[39m \u001B[38;5;28;01mtry\u001B[39;00m:\n\u001B[32m--> \u001B[39m\u001B[32m149\u001B[39m     formatted_answer = \u001B[38;5;28;43mself\u001B[39;49m\u001B[43m.\u001B[49m\u001B[43m_invoke_loop\u001B[49m\u001B[43m(\u001B[49m\u001B[43m)\u001B[49m\n\u001B[32m    150\u001B[39m \u001B[38;5;28;01mexcept\u001B[39;00m \u001B[38;5;167;01mAssertionError\u001B[39;00m:\n\u001B[32m    151\u001B[39m     \u001B[38;5;28mself\u001B[39m._printer.print(\n\u001B[32m    152\u001B[39m         content=\u001B[33m\"\u001B[39m\u001B[33mAgent failed to reach a final answer. This is likely a bug - please report it.\u001B[39m\u001B[33m\"\u001B[39m,\n\u001B[32m    153\u001B[39m         color=\u001B[33m\"\u001B[39m\u001B[33mred\u001B[39m\u001B[33m\"\u001B[39m,\n\u001B[32m    154\u001B[39m     )\n",
      "\u001B[36mFile \u001B[39m\u001B[32mE:\\PY_Workspace\\CrewAi-Introduction\\.venv\\Lib\\site-packages\\crewai\\agents\\crew_agent_executor.py:243\u001B[39m, in \u001B[36mCrewAgentExecutor._invoke_loop\u001B[39m\u001B[34m(self)\u001B[39m\n\u001B[32m    240\u001B[39m \u001B[38;5;28;01mexcept\u001B[39;00m \u001B[38;5;167;01mException\u001B[39;00m \u001B[38;5;28;01mas\u001B[39;00m e:\n\u001B[32m    241\u001B[39m     \u001B[38;5;28;01mif\u001B[39;00m e.\u001B[34m__class__\u001B[39m.\u001B[34m__module__\u001B[39m.startswith(\u001B[33m\"\u001B[39m\u001B[33mlitellm\u001B[39m\u001B[33m\"\u001B[39m):\n\u001B[32m    242\u001B[39m         \u001B[38;5;66;03m# Do not retry on litellm errors\u001B[39;00m\n\u001B[32m--> \u001B[39m\u001B[32m243\u001B[39m         \u001B[38;5;28;01mraise\u001B[39;00m e\n\u001B[32m    244\u001B[39m     \u001B[38;5;28;01mif\u001B[39;00m is_context_length_exceeded(e):\n\u001B[32m    245\u001B[39m         handle_context_length(\n\u001B[32m    246\u001B[39m             respect_context_window=\u001B[38;5;28mself\u001B[39m.respect_context_window,\n\u001B[32m    247\u001B[39m             printer=\u001B[38;5;28mself\u001B[39m._printer,\n\u001B[32m   (...)\u001B[39m\u001B[32m    251\u001B[39m             i18n=\u001B[38;5;28mself\u001B[39m._i18n,\n\u001B[32m    252\u001B[39m         )\n",
      "\u001B[36mFile \u001B[39m\u001B[32mE:\\PY_Workspace\\CrewAi-Introduction\\.venv\\Lib\\site-packages\\crewai\\agents\\crew_agent_executor.py:189\u001B[39m, in \u001B[36mCrewAgentExecutor._invoke_loop\u001B[39m\u001B[34m(self)\u001B[39m\n\u001B[32m    178\u001B[39m     formatted_answer = handle_max_iterations_exceeded(\n\u001B[32m    179\u001B[39m         formatted_answer,\n\u001B[32m    180\u001B[39m         printer=\u001B[38;5;28mself\u001B[39m._printer,\n\u001B[32m   (...)\u001B[39m\u001B[32m    184\u001B[39m         callbacks=\u001B[38;5;28mself\u001B[39m.callbacks,\n\u001B[32m    185\u001B[39m     )\n\u001B[32m    187\u001B[39m enforce_rpm_limit(\u001B[38;5;28mself\u001B[39m.request_within_rpm_limit)\n\u001B[32m--> \u001B[39m\u001B[32m189\u001B[39m answer = \u001B[43mget_llm_response\u001B[49m\u001B[43m(\u001B[49m\n\u001B[32m    190\u001B[39m \u001B[43m    \u001B[49m\u001B[43mllm\u001B[49m\u001B[43m=\u001B[49m\u001B[38;5;28;43mself\u001B[39;49m\u001B[43m.\u001B[49m\u001B[43mllm\u001B[49m\u001B[43m,\u001B[49m\n\u001B[32m    191\u001B[39m \u001B[43m    \u001B[49m\u001B[43mmessages\u001B[49m\u001B[43m=\u001B[49m\u001B[38;5;28;43mself\u001B[39;49m\u001B[43m.\u001B[49m\u001B[43mmessages\u001B[49m\u001B[43m,\u001B[49m\n\u001B[32m    192\u001B[39m \u001B[43m    \u001B[49m\u001B[43mcallbacks\u001B[49m\u001B[43m=\u001B[49m\u001B[38;5;28;43mself\u001B[39;49m\u001B[43m.\u001B[49m\u001B[43mcallbacks\u001B[49m\u001B[43m,\u001B[49m\n\u001B[32m    193\u001B[39m \u001B[43m    \u001B[49m\u001B[43mprinter\u001B[49m\u001B[43m=\u001B[49m\u001B[38;5;28;43mself\u001B[39;49m\u001B[43m.\u001B[49m\u001B[43m_printer\u001B[49m\u001B[43m,\u001B[49m\n\u001B[32m    194\u001B[39m \u001B[43m    \u001B[49m\u001B[43mfrom_task\u001B[49m\u001B[43m=\u001B[49m\u001B[38;5;28;43mself\u001B[39;49m\u001B[43m.\u001B[49m\u001B[43mtask\u001B[49m\u001B[43m,\u001B[49m\n\u001B[32m    195\u001B[39m \u001B[43m\u001B[49m\u001B[43m)\u001B[49m\n\u001B[32m    196\u001B[39m formatted_answer = process_llm_response(answer, \u001B[38;5;28mself\u001B[39m.use_stop_words)\n\u001B[32m    198\u001B[39m \u001B[38;5;28;01mif\u001B[39;00m \u001B[38;5;28misinstance\u001B[39m(formatted_answer, AgentAction):\n\u001B[32m    199\u001B[39m     \u001B[38;5;66;03m# Extract agent fingerprint if available\u001B[39;00m\n",
      "\u001B[36mFile \u001B[39m\u001B[32mE:\\PY_Workspace\\CrewAi-Introduction\\.venv\\Lib\\site-packages\\crewai\\utilities\\agent_utils.py:161\u001B[39m, in \u001B[36mget_llm_response\u001B[39m\u001B[34m(llm, messages, callbacks, printer, from_task, from_agent)\u001B[39m\n\u001B[32m    154\u001B[39m     answer = llm.call(\n\u001B[32m    155\u001B[39m         messages,\n\u001B[32m    156\u001B[39m         callbacks=callbacks,\n\u001B[32m    157\u001B[39m         from_task=from_task,\n\u001B[32m    158\u001B[39m         from_agent=from_agent,\n\u001B[32m    159\u001B[39m     )\n\u001B[32m    160\u001B[39m \u001B[38;5;28;01mexcept\u001B[39;00m \u001B[38;5;167;01mException\u001B[39;00m \u001B[38;5;28;01mas\u001B[39;00m e:\n\u001B[32m--> \u001B[39m\u001B[32m161\u001B[39m     \u001B[38;5;28;01mraise\u001B[39;00m e\n\u001B[32m    162\u001B[39m \u001B[38;5;28;01mif\u001B[39;00m \u001B[38;5;129;01mnot\u001B[39;00m answer:\n\u001B[32m    163\u001B[39m     printer.print(\n\u001B[32m    164\u001B[39m         content=\u001B[33m\"\u001B[39m\u001B[33mReceived None or empty response from LLM call.\u001B[39m\u001B[33m\"\u001B[39m,\n\u001B[32m    165\u001B[39m         color=\u001B[33m\"\u001B[39m\u001B[33mred\u001B[39m\u001B[33m\"\u001B[39m,\n\u001B[32m    166\u001B[39m     )\n",
      "\u001B[36mFile \u001B[39m\u001B[32mE:\\PY_Workspace\\CrewAi-Introduction\\.venv\\Lib\\site-packages\\crewai\\utilities\\agent_utils.py:154\u001B[39m, in \u001B[36mget_llm_response\u001B[39m\u001B[34m(llm, messages, callbacks, printer, from_task, from_agent)\u001B[39m\n\u001B[32m    152\u001B[39m \u001B[38;5;250m\u001B[39m\u001B[33;03m\"\"\"Call the LLM and return the response, handling any invalid responses.\"\"\"\u001B[39;00m\n\u001B[32m    153\u001B[39m \u001B[38;5;28;01mtry\u001B[39;00m:\n\u001B[32m--> \u001B[39m\u001B[32m154\u001B[39m     answer = \u001B[43mllm\u001B[49m\u001B[43m.\u001B[49m\u001B[43mcall\u001B[49m\u001B[43m(\u001B[49m\n\u001B[32m    155\u001B[39m \u001B[43m        \u001B[49m\u001B[43mmessages\u001B[49m\u001B[43m,\u001B[49m\n\u001B[32m    156\u001B[39m \u001B[43m        \u001B[49m\u001B[43mcallbacks\u001B[49m\u001B[43m=\u001B[49m\u001B[43mcallbacks\u001B[49m\u001B[43m,\u001B[49m\n\u001B[32m    157\u001B[39m \u001B[43m        \u001B[49m\u001B[43mfrom_task\u001B[49m\u001B[43m=\u001B[49m\u001B[43mfrom_task\u001B[49m\u001B[43m,\u001B[49m\n\u001B[32m    158\u001B[39m \u001B[43m        \u001B[49m\u001B[43mfrom_agent\u001B[49m\u001B[43m=\u001B[49m\u001B[43mfrom_agent\u001B[49m\u001B[43m,\u001B[49m\n\u001B[32m    159\u001B[39m \u001B[43m    \u001B[49m\u001B[43m)\u001B[49m\n\u001B[32m    160\u001B[39m \u001B[38;5;28;01mexcept\u001B[39;00m \u001B[38;5;167;01mException\u001B[39;00m \u001B[38;5;28;01mas\u001B[39;00m e:\n\u001B[32m    161\u001B[39m     \u001B[38;5;28;01mraise\u001B[39;00m e\n",
      "\u001B[36mFile \u001B[39m\u001B[32mE:\\PY_Workspace\\CrewAi-Introduction\\.venv\\Lib\\site-packages\\crewai\\llm.py:1032\u001B[39m, in \u001B[36mLLM.call\u001B[39m\u001B[34m(self, messages, tools, callbacks, available_functions, from_task, from_agent)\u001B[39m\n\u001B[32m   1028\u001B[39m         \u001B[38;5;28;01mreturn\u001B[39;00m \u001B[38;5;28mself\u001B[39m._handle_streaming_response(\n\u001B[32m   1029\u001B[39m             params, callbacks, available_functions, from_task, from_agent\n\u001B[32m   1030\u001B[39m         )\n\u001B[32m   1031\u001B[39m     \u001B[38;5;28;01melse\u001B[39;00m:\n\u001B[32m-> \u001B[39m\u001B[32m1032\u001B[39m         \u001B[38;5;28;01mreturn\u001B[39;00m \u001B[38;5;28;43mself\u001B[39;49m\u001B[43m.\u001B[49m\u001B[43m_handle_non_streaming_response\u001B[49m\u001B[43m(\u001B[49m\n\u001B[32m   1033\u001B[39m \u001B[43m            \u001B[49m\u001B[43mparams\u001B[49m\u001B[43m,\u001B[49m\u001B[43m \u001B[49m\u001B[43mcallbacks\u001B[49m\u001B[43m,\u001B[49m\u001B[43m \u001B[49m\u001B[43mavailable_functions\u001B[49m\u001B[43m,\u001B[49m\u001B[43m \u001B[49m\u001B[43mfrom_task\u001B[49m\u001B[43m,\u001B[49m\u001B[43m \u001B[49m\u001B[43mfrom_agent\u001B[49m\n\u001B[32m   1034\u001B[39m \u001B[43m        \u001B[49m\u001B[43m)\u001B[49m\n\u001B[32m   1036\u001B[39m \u001B[38;5;28;01mexcept\u001B[39;00m LLMContextLengthExceededException:\n\u001B[32m   1037\u001B[39m     \u001B[38;5;66;03m# Re-raise LLMContextLengthExceededException as it should be handled\u001B[39;00m\n\u001B[32m   1038\u001B[39m     \u001B[38;5;66;03m# by the CrewAgentExecutor._invoke_loop method, which can then decide\u001B[39;00m\n\u001B[32m   1039\u001B[39m     \u001B[38;5;66;03m# whether to summarize the content or abort based on the respect_context_window flag\u001B[39;00m\n\u001B[32m   1040\u001B[39m     \u001B[38;5;28;01mraise\u001B[39;00m\n",
      "\u001B[36mFile \u001B[39m\u001B[32mE:\\PY_Workspace\\CrewAi-Introduction\\.venv\\Lib\\site-packages\\crewai\\llm.py:813\u001B[39m, in \u001B[36mLLM._handle_non_streaming_response\u001B[39m\u001B[34m(self, params, callbacks, available_functions, from_task, from_agent)\u001B[39m\n\u001B[32m    807\u001B[39m \u001B[38;5;66;03m# --- 1) Make the completion call\u001B[39;00m\n\u001B[32m    808\u001B[39m \u001B[38;5;28;01mtry\u001B[39;00m:\n\u001B[32m    809\u001B[39m     \u001B[38;5;66;03m# Attempt to make the completion call, but catch context window errors\u001B[39;00m\n\u001B[32m    810\u001B[39m     \u001B[38;5;66;03m# and convert them to our own exception type for consistent handling\u001B[39;00m\n\u001B[32m    811\u001B[39m     \u001B[38;5;66;03m# across the codebase. This allows CrewAgentExecutor to handle context\u001B[39;00m\n\u001B[32m    812\u001B[39m     \u001B[38;5;66;03m# length issues appropriately.\u001B[39;00m\n\u001B[32m--> \u001B[39m\u001B[32m813\u001B[39m     response = \u001B[43mlitellm\u001B[49m\u001B[43m.\u001B[49m\u001B[43mcompletion\u001B[49m\u001B[43m(\u001B[49m\u001B[43m*\u001B[49m\u001B[43m*\u001B[49m\u001B[43mparams\u001B[49m\u001B[43m)\u001B[49m\n\u001B[32m    815\u001B[39m \u001B[38;5;28;01mexcept\u001B[39;00m ContextWindowExceededError \u001B[38;5;28;01mas\u001B[39;00m e:\n\u001B[32m    816\u001B[39m     \u001B[38;5;66;03m# Convert litellm's context window error to our own exception type\u001B[39;00m\n\u001B[32m    817\u001B[39m     \u001B[38;5;66;03m# for consistent handling in the rest of the codebase\u001B[39;00m\n\u001B[32m    818\u001B[39m     \u001B[38;5;28;01mraise\u001B[39;00m LLMContextLengthExceededException(\u001B[38;5;28mstr\u001B[39m(e))\n",
      "\u001B[36mFile \u001B[39m\u001B[32mE:\\PY_Workspace\\CrewAi-Introduction\\.venv\\Lib\\site-packages\\litellm\\utils.py:1330\u001B[39m, in \u001B[36mclient.<locals>.wrapper\u001B[39m\u001B[34m(*args, **kwargs)\u001B[39m\n\u001B[32m   1326\u001B[39m \u001B[38;5;28;01mif\u001B[39;00m logging_obj:\n\u001B[32m   1327\u001B[39m     logging_obj.failure_handler(\n\u001B[32m   1328\u001B[39m         e, traceback_exception, start_time, end_time\n\u001B[32m   1329\u001B[39m     )  \u001B[38;5;66;03m# DO NOT MAKE THREADED - router retry fallback relies on this!\u001B[39;00m\n\u001B[32m-> \u001B[39m\u001B[32m1330\u001B[39m \u001B[38;5;28;01mraise\u001B[39;00m e\n",
      "\u001B[36mFile \u001B[39m\u001B[32mE:\\PY_Workspace\\CrewAi-Introduction\\.venv\\Lib\\site-packages\\litellm\\utils.py:1205\u001B[39m, in \u001B[36mclient.<locals>.wrapper\u001B[39m\u001B[34m(*args, **kwargs)\u001B[39m\n\u001B[32m   1203\u001B[39m         print_verbose(\u001B[33mf\u001B[39m\u001B[33m\"\u001B[39m\u001B[33mError while checking max token limit: \u001B[39m\u001B[38;5;132;01m{\u001B[39;00m\u001B[38;5;28mstr\u001B[39m(e)\u001B[38;5;132;01m}\u001B[39;00m\u001B[33m\"\u001B[39m)\n\u001B[32m   1204\u001B[39m \u001B[38;5;66;03m# MODEL CALL\u001B[39;00m\n\u001B[32m-> \u001B[39m\u001B[32m1205\u001B[39m result = \u001B[43moriginal_function\u001B[49m\u001B[43m(\u001B[49m\u001B[43m*\u001B[49m\u001B[43margs\u001B[49m\u001B[43m,\u001B[49m\u001B[43m \u001B[49m\u001B[43m*\u001B[49m\u001B[43m*\u001B[49m\u001B[43mkwargs\u001B[49m\u001B[43m)\u001B[49m\n\u001B[32m   1206\u001B[39m end_time = datetime.datetime.now()\n\u001B[32m   1207\u001B[39m \u001B[38;5;28;01mif\u001B[39;00m _is_streaming_request(\n\u001B[32m   1208\u001B[39m     kwargs=kwargs,\n\u001B[32m   1209\u001B[39m     call_type=call_type,\n\u001B[32m   1210\u001B[39m ):\n",
      "\u001B[36mFile \u001B[39m\u001B[32mE:\\PY_Workspace\\CrewAi-Introduction\\.venv\\Lib\\site-packages\\litellm\\main.py:3427\u001B[39m, in \u001B[36mcompletion\u001B[39m\u001B[34m(model, messages, timeout, temperature, top_p, n, stream, stream_options, stop, max_completion_tokens, max_tokens, modalities, prediction, audio, presence_penalty, frequency_penalty, logit_bias, user, reasoning_effort, response_format, seed, tools, tool_choice, logprobs, top_logprobs, parallel_tool_calls, web_search_options, deployment_id, extra_headers, functions, function_call, base_url, api_version, api_key, model_list, thinking, **kwargs)\u001B[39m\n\u001B[32m   3424\u001B[39m     \u001B[38;5;28;01mreturn\u001B[39;00m response\n\u001B[32m   3425\u001B[39m \u001B[38;5;28;01mexcept\u001B[39;00m \u001B[38;5;167;01mException\u001B[39;00m \u001B[38;5;28;01mas\u001B[39;00m e:\n\u001B[32m   3426\u001B[39m     \u001B[38;5;66;03m## Map to OpenAI Exception\u001B[39;00m\n\u001B[32m-> \u001B[39m\u001B[32m3427\u001B[39m     \u001B[38;5;28;01mraise\u001B[39;00m \u001B[43mexception_type\u001B[49m\u001B[43m(\u001B[49m\n\u001B[32m   3428\u001B[39m \u001B[43m        \u001B[49m\u001B[43mmodel\u001B[49m\u001B[43m=\u001B[49m\u001B[43mmodel\u001B[49m\u001B[43m,\u001B[49m\n\u001B[32m   3429\u001B[39m \u001B[43m        \u001B[49m\u001B[43mcustom_llm_provider\u001B[49m\u001B[43m=\u001B[49m\u001B[43mcustom_llm_provider\u001B[49m\u001B[43m,\u001B[49m\n\u001B[32m   3430\u001B[39m \u001B[43m        \u001B[49m\u001B[43moriginal_exception\u001B[49m\u001B[43m=\u001B[49m\u001B[43me\u001B[49m\u001B[43m,\u001B[49m\n\u001B[32m   3431\u001B[39m \u001B[43m        \u001B[49m\u001B[43mcompletion_kwargs\u001B[49m\u001B[43m=\u001B[49m\u001B[43margs\u001B[49m\u001B[43m,\u001B[49m\n\u001B[32m   3432\u001B[39m \u001B[43m        \u001B[49m\u001B[43mextra_kwargs\u001B[49m\u001B[43m=\u001B[49m\u001B[43mkwargs\u001B[49m\u001B[43m,\u001B[49m\n\u001B[32m   3433\u001B[39m \u001B[43m    \u001B[49m\u001B[43m)\u001B[49m\n",
      "\u001B[36mFile \u001B[39m\u001B[32mE:\\PY_Workspace\\CrewAi-Introduction\\.venv\\Lib\\site-packages\\litellm\\litellm_core_utils\\exception_mapping_utils.py:2301\u001B[39m, in \u001B[36mexception_type\u001B[39m\u001B[34m(model, original_exception, custom_llm_provider, completion_kwargs, extra_kwargs)\u001B[39m\n\u001B[32m   2299\u001B[39m \u001B[38;5;28;01mif\u001B[39;00m exception_mapping_worked:\n\u001B[32m   2300\u001B[39m     \u001B[38;5;28msetattr\u001B[39m(e, \u001B[33m\"\u001B[39m\u001B[33mlitellm_response_headers\u001B[39m\u001B[33m\"\u001B[39m, litellm_response_headers)\n\u001B[32m-> \u001B[39m\u001B[32m2301\u001B[39m     \u001B[38;5;28;01mraise\u001B[39;00m e\n\u001B[32m   2302\u001B[39m \u001B[38;5;28;01melse\u001B[39;00m:\n\u001B[32m   2303\u001B[39m     \u001B[38;5;28;01mfor\u001B[39;00m error_type \u001B[38;5;129;01min\u001B[39;00m litellm.LITELLM_EXCEPTION_TYPES:\n",
      "\u001B[36mFile \u001B[39m\u001B[32mE:\\PY_Workspace\\CrewAi-Introduction\\.venv\\Lib\\site-packages\\litellm\\litellm_core_utils\\exception_mapping_utils.py:329\u001B[39m, in \u001B[36mexception_type\u001B[39m\u001B[34m(model, original_exception, custom_llm_provider, completion_kwargs, extra_kwargs)\u001B[39m\n\u001B[32m    327\u001B[39m \u001B[38;5;28;01mif\u001B[39;00m ExceptionCheckers.is_error_str_rate_limit(error_str):\n\u001B[32m    328\u001B[39m     exception_mapping_worked = \u001B[38;5;28;01mTrue\u001B[39;00m\n\u001B[32m--> \u001B[39m\u001B[32m329\u001B[39m     \u001B[38;5;28;01mraise\u001B[39;00m RateLimitError(\n\u001B[32m    330\u001B[39m         message=\u001B[33mf\u001B[39m\u001B[33m\"\u001B[39m\u001B[33mRateLimitError: \u001B[39m\u001B[38;5;132;01m{\u001B[39;00mexception_provider\u001B[38;5;132;01m}\u001B[39;00m\u001B[33m - \u001B[39m\u001B[38;5;132;01m{\u001B[39;00mmessage\u001B[38;5;132;01m}\u001B[39;00m\u001B[33m\"\u001B[39m,\n\u001B[32m    331\u001B[39m         model=model,\n\u001B[32m    332\u001B[39m         llm_provider=custom_llm_provider,\n\u001B[32m    333\u001B[39m         response=\u001B[38;5;28mgetattr\u001B[39m(original_exception, \u001B[33m\"\u001B[39m\u001B[33mresponse\u001B[39m\u001B[33m\"\u001B[39m, \u001B[38;5;28;01mNone\u001B[39;00m),\n\u001B[32m    334\u001B[39m     )\n\u001B[32m    335\u001B[39m \u001B[38;5;28;01melif\u001B[39;00m ExceptionCheckers.is_error_str_context_window_exceeded(error_str):\n\u001B[32m    336\u001B[39m     exception_mapping_worked = \u001B[38;5;28;01mTrue\u001B[39;00m\n",
      "\u001B[31mRateLimitError\u001B[39m: litellm.RateLimitError: RateLimitError: GroqException - {\"error\":{\"message\":\"Rate limit reached for model `llama-3.1-8b-instant` in organization `org_01k47wrawaf4t9dfgkax7anx80` service tier `on_demand` on tokens per minute (TPM): Limit 6000, Used 6265, Requested 2624. Please try again in 28.896s. Need more tokens? Upgrade to Dev Tier today at https://console.groq.com/settings/billing\",\"type\":\"tokens\",\"code\":\"rate_limit_exceeded\"}}\n"
     ]
    }
   ],
   "execution_count": 7
  },
  {
   "metadata": {},
   "cell_type": "code",
   "source": "",
   "id": "bc1d885a81f4c2b2",
   "outputs": [],
   "execution_count": null
  }
 ],
 "metadata": {
  "kernelspec": {
   "display_name": "Python 3",
   "language": "python",
   "name": "python3"
  },
  "language_info": {
   "codemirror_mode": {
    "name": "ipython",
    "version": 2
   },
   "file_extension": ".py",
   "mimetype": "text/x-python",
   "name": "python",
   "nbconvert_exporter": "python",
   "pygments_lexer": "ipython2",
   "version": "2.7.6"
  }
 },
 "nbformat": 4,
 "nbformat_minor": 5
}
